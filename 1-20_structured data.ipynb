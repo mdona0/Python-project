{
 "cells": [
  {
   "cell_type": "code",
   "execution_count": 1,
   "id": "46c5a725",
   "metadata": {},
   "outputs": [],
   "source": [
    "import numpy as np\n",
    "import matplotlib.pyplot as plt\n",
    "import pandas as pd\n",
    "import japanize_matplotlib"
   ]
  },
  {
   "cell_type": "code",
   "execution_count": 2,
   "id": "62cb5a22",
   "metadata": {},
   "outputs": [
    {
     "data": {
      "text/html": [
       "<div>\n",
       "<style scoped>\n",
       "    .dataframe tbody tr th:only-of-type {\n",
       "        vertical-align: middle;\n",
       "    }\n",
       "\n",
       "    .dataframe tbody tr th {\n",
       "        vertical-align: top;\n",
       "    }\n",
       "\n",
       "    .dataframe thead th {\n",
       "        text-align: right;\n",
       "    }\n",
       "</style>\n",
       "<table border=\"1\" class=\"dataframe\">\n",
       "  <thead>\n",
       "    <tr style=\"text-align: right;\">\n",
       "      <th></th>\n",
       "      <th>1</th>\n",
       "      <th>1000013040008</th>\n",
       "      <th>01</th>\n",
       "      <th>1.1</th>\n",
       "      <th>2018-04-02</th>\n",
       "      <th>2015-10-05</th>\n",
       "      <th>静岡家庭裁判所</th>\n",
       "      <th>Unnamed: 7</th>\n",
       "      <th>101</th>\n",
       "      <th>静岡県</th>\n",
       "      <th>...</th>\n",
       "      <th>Unnamed: 20</th>\n",
       "      <th>Unnamed: 21</th>\n",
       "      <th>2015-10-05.1</th>\n",
       "      <th>1.2</th>\n",
       "      <th>Shizuoka Family Court</th>\n",
       "      <th>Shizuoka</th>\n",
       "      <th>1-20, Jonaicho, Aoi ku, Shizuoka shi</th>\n",
       "      <th>Unnamed: 27</th>\n",
       "      <th>シズオカカテイサイバンショ</th>\n",
       "      <th>0</th>\n",
       "    </tr>\n",
       "  </thead>\n",
       "  <tbody>\n",
       "    <tr>\n",
       "      <th>0</th>\n",
       "      <td>2</td>\n",
       "      <td>1000013050072</td>\n",
       "      <td>1</td>\n",
       "      <td>1</td>\n",
       "      <td>2018-04-02</td>\n",
       "      <td>2015-10-05</td>\n",
       "      <td>清水簡易裁判所</td>\n",
       "      <td>NaN</td>\n",
       "      <td>101</td>\n",
       "      <td>静岡県</td>\n",
       "      <td>...</td>\n",
       "      <td>NaN</td>\n",
       "      <td>NaN</td>\n",
       "      <td>2015-10-05</td>\n",
       "      <td>1</td>\n",
       "      <td>Shimizu Summary Court</td>\n",
       "      <td>Shizuoka</td>\n",
       "      <td>1-6-15, Tenjin, Shimizu ku, Shizuoka shi</td>\n",
       "      <td>NaN</td>\n",
       "      <td>シミズカンイサイバンショ</td>\n",
       "      <td>0</td>\n",
       "    </tr>\n",
       "    <tr>\n",
       "      <th>1</th>\n",
       "      <td>3</td>\n",
       "      <td>1000013050080</td>\n",
       "      <td>1</td>\n",
       "      <td>1</td>\n",
       "      <td>2018-04-02</td>\n",
       "      <td>2015-10-05</td>\n",
       "      <td>浜松簡易裁判所</td>\n",
       "      <td>NaN</td>\n",
       "      <td>101</td>\n",
       "      <td>静岡県</td>\n",
       "      <td>...</td>\n",
       "      <td>NaN</td>\n",
       "      <td>NaN</td>\n",
       "      <td>2015-10-05</td>\n",
       "      <td>1</td>\n",
       "      <td>Hamamatsu Summary Court</td>\n",
       "      <td>Shizuoka</td>\n",
       "      <td>1-12-5, Chuo, Naka ku, Hamamatsu shi</td>\n",
       "      <td>NaN</td>\n",
       "      <td>ハママツカンイサイバンショ</td>\n",
       "      <td>0</td>\n",
       "    </tr>\n",
       "    <tr>\n",
       "      <th>2</th>\n",
       "      <td>4</td>\n",
       "      <td>1000020222119</td>\n",
       "      <td>1</td>\n",
       "      <td>1</td>\n",
       "      <td>2018-04-05</td>\n",
       "      <td>2015-10-05</td>\n",
       "      <td>磐田市</td>\n",
       "      <td>NaN</td>\n",
       "      <td>201</td>\n",
       "      <td>静岡県</td>\n",
       "      <td>...</td>\n",
       "      <td>NaN</td>\n",
       "      <td>NaN</td>\n",
       "      <td>2015-10-05</td>\n",
       "      <td>1</td>\n",
       "      <td>Iwata City</td>\n",
       "      <td>Shizuoka</td>\n",
       "      <td>3-1,Kounodai, Iwata shi</td>\n",
       "      <td>NaN</td>\n",
       "      <td>イワタシ</td>\n",
       "      <td>0</td>\n",
       "    </tr>\n",
       "    <tr>\n",
       "      <th>3</th>\n",
       "      <td>5</td>\n",
       "      <td>1000020222127</td>\n",
       "      <td>1</td>\n",
       "      <td>1</td>\n",
       "      <td>2018-04-05</td>\n",
       "      <td>2015-10-05</td>\n",
       "      <td>焼津市</td>\n",
       "      <td>NaN</td>\n",
       "      <td>201</td>\n",
       "      <td>静岡県</td>\n",
       "      <td>...</td>\n",
       "      <td>NaN</td>\n",
       "      <td>NaN</td>\n",
       "      <td>2015-10-05</td>\n",
       "      <td>1</td>\n",
       "      <td>Yaizu city</td>\n",
       "      <td>Shizuoka</td>\n",
       "      <td>2-16-32 Honmachi, Yaizu shi</td>\n",
       "      <td>NaN</td>\n",
       "      <td>ヤイヅシ</td>\n",
       "      <td>0</td>\n",
       "    </tr>\n",
       "    <tr>\n",
       "      <th>4</th>\n",
       "      <td>6</td>\n",
       "      <td>1000020222135</td>\n",
       "      <td>1</td>\n",
       "      <td>1</td>\n",
       "      <td>2020-09-29</td>\n",
       "      <td>2015-10-05</td>\n",
       "      <td>掛川市</td>\n",
       "      <td>NaN</td>\n",
       "      <td>201</td>\n",
       "      <td>静岡県</td>\n",
       "      <td>...</td>\n",
       "      <td>NaN</td>\n",
       "      <td>NaN</td>\n",
       "      <td>2015-10-05</td>\n",
       "      <td>1</td>\n",
       "      <td>Kakegawa City</td>\n",
       "      <td>Shizuoka</td>\n",
       "      <td>1-1-1 Nagaya, Kakegawa shi</td>\n",
       "      <td>NaN</td>\n",
       "      <td>カケガワシ</td>\n",
       "      <td>0</td>\n",
       "    </tr>\n",
       "  </tbody>\n",
       "</table>\n",
       "<p>5 rows × 30 columns</p>\n",
       "</div>"
      ],
      "text/plain": [
       "   1  1000013040008  01  1.1  2018-04-02  2015-10-05  静岡家庭裁判所  Unnamed: 7  \\\n",
       "0  2  1000013050072   1    1  2018-04-02  2015-10-05  清水簡易裁判所         NaN   \n",
       "1  3  1000013050080   1    1  2018-04-02  2015-10-05  浜松簡易裁判所         NaN   \n",
       "2  4  1000020222119   1    1  2018-04-05  2015-10-05      磐田市         NaN   \n",
       "3  5  1000020222127   1    1  2018-04-05  2015-10-05      焼津市         NaN   \n",
       "4  6  1000020222135   1    1  2020-09-29  2015-10-05      掛川市         NaN   \n",
       "\n",
       "   101  静岡県  ... Unnamed: 20 Unnamed: 21  2015-10-05.1  1.2  \\\n",
       "0  101  静岡県  ...         NaN         NaN    2015-10-05    1   \n",
       "1  101  静岡県  ...         NaN         NaN    2015-10-05    1   \n",
       "2  201  静岡県  ...         NaN         NaN    2015-10-05    1   \n",
       "3  201  静岡県  ...         NaN         NaN    2015-10-05    1   \n",
       "4  201  静岡県  ...         NaN         NaN    2015-10-05    1   \n",
       "\n",
       "     Shizuoka Family Court  Shizuoka  \\\n",
       "0    Shimizu Summary Court  Shizuoka   \n",
       "1  Hamamatsu Summary Court  Shizuoka   \n",
       "2               Iwata City  Shizuoka   \n",
       "3               Yaizu city  Shizuoka   \n",
       "4            Kakegawa City  Shizuoka   \n",
       "\n",
       "       1-20, Jonaicho, Aoi ku, Shizuoka shi  Unnamed: 27  シズオカカテイサイバンショ  0  \n",
       "0  1-6-15, Tenjin, Shimizu ku, Shizuoka shi          NaN   シミズカンイサイバンショ  0  \n",
       "1      1-12-5, Chuo, Naka ku, Hamamatsu shi          NaN  ハママツカンイサイバンショ  0  \n",
       "2                   3-1,Kounodai, Iwata shi          NaN           イワタシ  0  \n",
       "3               2-16-32 Honmachi, Yaizu shi          NaN           ヤイヅシ  0  \n",
       "4                1-1-1 Nagaya, Kakegawa shi          NaN          カケガワシ  0  \n",
       "\n",
       "[5 rows x 30 columns]"
      ]
     },
     "execution_count": 2,
     "metadata": {},
     "output_type": "execute_result"
    }
   ],
   "source": [
    "#静岡県の法人情報\n",
    "data = pd.read_csv('./chapter-1/data/22_shizuoka_all_20210331.csv',encoding='shift-jis')#shift-jisは文字コード\n",
    "data.head()"
   ]
  },
  {
   "cell_type": "code",
   "execution_count": 3,
   "id": "08ac5f0c",
   "metadata": {},
   "outputs": [
    {
     "data": {
      "text/plain": [
       "114612"
      ]
     },
     "execution_count": 3,
     "metadata": {},
     "output_type": "execute_result"
    }
   ],
   "source": [
    "len(data)"
   ]
  },
  {
   "cell_type": "code",
   "execution_count": 4,
   "id": "bb5f6ec9",
   "metadata": {},
   "outputs": [
    {
     "data": {
      "text/html": [
       "<div>\n",
       "<style scoped>\n",
       "    .dataframe tbody tr th:only-of-type {\n",
       "        vertical-align: middle;\n",
       "    }\n",
       "\n",
       "    .dataframe tbody tr th {\n",
       "        vertical-align: top;\n",
       "    }\n",
       "\n",
       "    .dataframe thead th {\n",
       "        text-align: right;\n",
       "    }\n",
       "</style>\n",
       "<table border=\"1\" class=\"dataframe\">\n",
       "  <thead>\n",
       "    <tr style=\"text-align: right;\">\n",
       "      <th></th>\n",
       "      <th>0</th>\n",
       "      <th>1</th>\n",
       "      <th>2</th>\n",
       "      <th>3</th>\n",
       "      <th>4</th>\n",
       "      <th>5</th>\n",
       "      <th>6</th>\n",
       "      <th>7</th>\n",
       "      <th>8</th>\n",
       "      <th>9</th>\n",
       "      <th>...</th>\n",
       "      <th>20</th>\n",
       "      <th>21</th>\n",
       "      <th>22</th>\n",
       "      <th>23</th>\n",
       "      <th>24</th>\n",
       "      <th>25</th>\n",
       "      <th>26</th>\n",
       "      <th>27</th>\n",
       "      <th>28</th>\n",
       "      <th>29</th>\n",
       "    </tr>\n",
       "  </thead>\n",
       "  <tbody>\n",
       "    <tr>\n",
       "      <th>0</th>\n",
       "      <td>1</td>\n",
       "      <td>1000013040008</td>\n",
       "      <td>1</td>\n",
       "      <td>1</td>\n",
       "      <td>2018-04-02</td>\n",
       "      <td>2015-10-05</td>\n",
       "      <td>静岡家庭裁判所</td>\n",
       "      <td>NaN</td>\n",
       "      <td>101</td>\n",
       "      <td>静岡県</td>\n",
       "      <td>...</td>\n",
       "      <td>NaN</td>\n",
       "      <td>NaN</td>\n",
       "      <td>2015-10-05</td>\n",
       "      <td>1</td>\n",
       "      <td>Shizuoka Family Court</td>\n",
       "      <td>Shizuoka</td>\n",
       "      <td>1-20, Jonaicho, Aoi ku, Shizuoka shi</td>\n",
       "      <td>NaN</td>\n",
       "      <td>シズオカカテイサイバンショ</td>\n",
       "      <td>0</td>\n",
       "    </tr>\n",
       "    <tr>\n",
       "      <th>1</th>\n",
       "      <td>2</td>\n",
       "      <td>1000013050072</td>\n",
       "      <td>1</td>\n",
       "      <td>1</td>\n",
       "      <td>2018-04-02</td>\n",
       "      <td>2015-10-05</td>\n",
       "      <td>清水簡易裁判所</td>\n",
       "      <td>NaN</td>\n",
       "      <td>101</td>\n",
       "      <td>静岡県</td>\n",
       "      <td>...</td>\n",
       "      <td>NaN</td>\n",
       "      <td>NaN</td>\n",
       "      <td>2015-10-05</td>\n",
       "      <td>1</td>\n",
       "      <td>Shimizu Summary Court</td>\n",
       "      <td>Shizuoka</td>\n",
       "      <td>1-6-15, Tenjin, Shimizu ku, Shizuoka shi</td>\n",
       "      <td>NaN</td>\n",
       "      <td>シミズカンイサイバンショ</td>\n",
       "      <td>0</td>\n",
       "    </tr>\n",
       "    <tr>\n",
       "      <th>2</th>\n",
       "      <td>3</td>\n",
       "      <td>1000013050080</td>\n",
       "      <td>1</td>\n",
       "      <td>1</td>\n",
       "      <td>2018-04-02</td>\n",
       "      <td>2015-10-05</td>\n",
       "      <td>浜松簡易裁判所</td>\n",
       "      <td>NaN</td>\n",
       "      <td>101</td>\n",
       "      <td>静岡県</td>\n",
       "      <td>...</td>\n",
       "      <td>NaN</td>\n",
       "      <td>NaN</td>\n",
       "      <td>2015-10-05</td>\n",
       "      <td>1</td>\n",
       "      <td>Hamamatsu Summary Court</td>\n",
       "      <td>Shizuoka</td>\n",
       "      <td>1-12-5, Chuo, Naka ku, Hamamatsu shi</td>\n",
       "      <td>NaN</td>\n",
       "      <td>ハママツカンイサイバンショ</td>\n",
       "      <td>0</td>\n",
       "    </tr>\n",
       "    <tr>\n",
       "      <th>3</th>\n",
       "      <td>4</td>\n",
       "      <td>1000020222119</td>\n",
       "      <td>1</td>\n",
       "      <td>1</td>\n",
       "      <td>2018-04-05</td>\n",
       "      <td>2015-10-05</td>\n",
       "      <td>磐田市</td>\n",
       "      <td>NaN</td>\n",
       "      <td>201</td>\n",
       "      <td>静岡県</td>\n",
       "      <td>...</td>\n",
       "      <td>NaN</td>\n",
       "      <td>NaN</td>\n",
       "      <td>2015-10-05</td>\n",
       "      <td>1</td>\n",
       "      <td>Iwata City</td>\n",
       "      <td>Shizuoka</td>\n",
       "      <td>3-1,Kounodai, Iwata shi</td>\n",
       "      <td>NaN</td>\n",
       "      <td>イワタシ</td>\n",
       "      <td>0</td>\n",
       "    </tr>\n",
       "    <tr>\n",
       "      <th>4</th>\n",
       "      <td>5</td>\n",
       "      <td>1000020222127</td>\n",
       "      <td>1</td>\n",
       "      <td>1</td>\n",
       "      <td>2018-04-05</td>\n",
       "      <td>2015-10-05</td>\n",
       "      <td>焼津市</td>\n",
       "      <td>NaN</td>\n",
       "      <td>201</td>\n",
       "      <td>静岡県</td>\n",
       "      <td>...</td>\n",
       "      <td>NaN</td>\n",
       "      <td>NaN</td>\n",
       "      <td>2015-10-05</td>\n",
       "      <td>1</td>\n",
       "      <td>Yaizu city</td>\n",
       "      <td>Shizuoka</td>\n",
       "      <td>2-16-32 Honmachi, Yaizu shi</td>\n",
       "      <td>NaN</td>\n",
       "      <td>ヤイヅシ</td>\n",
       "      <td>0</td>\n",
       "    </tr>\n",
       "  </tbody>\n",
       "</table>\n",
       "<p>5 rows × 30 columns</p>\n",
       "</div>"
      ],
      "text/plain": [
       "   0              1   2   3           4           5        6   7    8    9   \\\n",
       "0   1  1000013040008   1   1  2018-04-02  2015-10-05  静岡家庭裁判所 NaN  101  静岡県   \n",
       "1   2  1000013050072   1   1  2018-04-02  2015-10-05  清水簡易裁判所 NaN  101  静岡県   \n",
       "2   3  1000013050080   1   1  2018-04-02  2015-10-05  浜松簡易裁判所 NaN  101  静岡県   \n",
       "3   4  1000020222119   1   1  2018-04-05  2015-10-05      磐田市 NaN  201  静岡県   \n",
       "4   5  1000020222127   1   1  2018-04-05  2015-10-05      焼津市 NaN  201  静岡県   \n",
       "\n",
       "   ...  20   21          22  23                       24        25  \\\n",
       "0  ... NaN  NaN  2015-10-05   1    Shizuoka Family Court  Shizuoka   \n",
       "1  ... NaN  NaN  2015-10-05   1    Shimizu Summary Court  Shizuoka   \n",
       "2  ... NaN  NaN  2015-10-05   1  Hamamatsu Summary Court  Shizuoka   \n",
       "3  ... NaN  NaN  2015-10-05   1               Iwata City  Shizuoka   \n",
       "4  ... NaN  NaN  2015-10-05   1               Yaizu city  Shizuoka   \n",
       "\n",
       "                                         26  27             28  29  \n",
       "0      1-20, Jonaicho, Aoi ku, Shizuoka shi NaN  シズオカカテイサイバンショ   0  \n",
       "1  1-6-15, Tenjin, Shimizu ku, Shizuoka shi NaN   シミズカンイサイバンショ   0  \n",
       "2      1-12-5, Chuo, Naka ku, Hamamatsu shi NaN  ハママツカンイサイバンショ   0  \n",
       "3                   3-1,Kounodai, Iwata shi NaN           イワタシ   0  \n",
       "4               2-16-32 Honmachi, Yaizu shi NaN           ヤイヅシ   0  \n",
       "\n",
       "[5 rows x 30 columns]"
      ]
     },
     "execution_count": 4,
     "metadata": {},
     "output_type": "execute_result"
    }
   ],
   "source": [
    "data = pd.read_csv('./chapter-1/data/22_shizuoka_all_20210331.csv',encoding='shift-jis',header=None)#headerなしで整形\n",
    "data.head()"
   ]
  },
  {
   "cell_type": "code",
   "execution_count": 5,
   "id": "f245236f",
   "metadata": {},
   "outputs": [
    {
     "data": {
      "text/plain": [
       "Int64Index([ 0,  1,  2,  3,  4,  5,  6,  7,  8,  9, 10, 11, 12, 13, 14, 15, 16,\n",
       "            17, 18, 19, 20, 21, 22, 23, 24, 25, 26, 27, 28, 29],\n",
       "           dtype='int64')"
      ]
     },
     "execution_count": 5,
     "metadata": {},
     "output_type": "execute_result"
    }
   ],
   "source": [
    "data.columns"
   ]
  },
  {
   "cell_type": "code",
   "execution_count": 6,
   "id": "4e9bba36",
   "metadata": {},
   "outputs": [
    {
     "data": {
      "text/plain": [
       "30"
      ]
     },
     "execution_count": 6,
     "metadata": {},
     "output_type": "execute_result"
    }
   ],
   "source": [
    "len(data.columns)"
   ]
  },
  {
   "cell_type": "code",
   "execution_count": 7,
   "id": "4fa89cbf",
   "metadata": {},
   "outputs": [
    {
     "data": {
      "text/plain": [
       "0       int64\n",
       "1       int64\n",
       "2       int64\n",
       "3       int64\n",
       "4      object\n",
       "5      object\n",
       "6      object\n",
       "7     float64\n",
       "8       int64\n",
       "9      object\n",
       "10     object\n",
       "11     object\n",
       "12    float64\n",
       "13      int64\n",
       "14      int64\n",
       "15    float64\n",
       "16    float64\n",
       "17    float64\n",
       "18     object\n",
       "19    float64\n",
       "20    float64\n",
       "21     object\n",
       "22     object\n",
       "23      int64\n",
       "24     object\n",
       "25     object\n",
       "26     object\n",
       "27    float64\n",
       "28     object\n",
       "29      int64\n",
       "dtype: object"
      ]
     },
     "execution_count": 7,
     "metadata": {},
     "output_type": "execute_result"
    }
   ],
   "source": [
    "data.dtypes#datatypeを確認、現状は不都合"
   ]
  },
  {
   "cell_type": "code",
   "execution_count": 8,
   "id": "24deb79f",
   "metadata": {},
   "outputs": [
    {
     "data": {
      "text/html": [
       "<div>\n",
       "<style scoped>\n",
       "    .dataframe tbody tr th:only-of-type {\n",
       "        vertical-align: middle;\n",
       "    }\n",
       "\n",
       "    .dataframe tbody tr th {\n",
       "        vertical-align: top;\n",
       "    }\n",
       "\n",
       "    .dataframe thead th {\n",
       "        text-align: right;\n",
       "    }\n",
       "</style>\n",
       "<table border=\"1\" class=\"dataframe\">\n",
       "  <thead>\n",
       "    <tr style=\"text-align: right;\">\n",
       "      <th></th>\n",
       "      <th>0</th>\n",
       "      <th>1</th>\n",
       "      <th>2</th>\n",
       "      <th>3</th>\n",
       "      <th>4</th>\n",
       "      <th>5</th>\n",
       "      <th>6</th>\n",
       "      <th>7</th>\n",
       "      <th>8</th>\n",
       "      <th>9</th>\n",
       "      <th>...</th>\n",
       "      <th>20</th>\n",
       "      <th>21</th>\n",
       "      <th>22</th>\n",
       "      <th>23</th>\n",
       "      <th>24</th>\n",
       "      <th>25</th>\n",
       "      <th>26</th>\n",
       "      <th>27</th>\n",
       "      <th>28</th>\n",
       "      <th>29</th>\n",
       "    </tr>\n",
       "  </thead>\n",
       "  <tbody>\n",
       "    <tr>\n",
       "      <th>0</th>\n",
       "      <td>1</td>\n",
       "      <td>1000013040008</td>\n",
       "      <td>01</td>\n",
       "      <td>1</td>\n",
       "      <td>2018-04-02</td>\n",
       "      <td>2015-10-05</td>\n",
       "      <td>静岡家庭裁判所</td>\n",
       "      <td>NaN</td>\n",
       "      <td>101</td>\n",
       "      <td>静岡県</td>\n",
       "      <td>...</td>\n",
       "      <td>NaN</td>\n",
       "      <td>NaN</td>\n",
       "      <td>2015-10-05</td>\n",
       "      <td>1</td>\n",
       "      <td>Shizuoka Family Court</td>\n",
       "      <td>Shizuoka</td>\n",
       "      <td>1-20, Jonaicho, Aoi ku, Shizuoka shi</td>\n",
       "      <td>NaN</td>\n",
       "      <td>シズオカカテイサイバンショ</td>\n",
       "      <td>0</td>\n",
       "    </tr>\n",
       "    <tr>\n",
       "      <th>1</th>\n",
       "      <td>2</td>\n",
       "      <td>1000013050072</td>\n",
       "      <td>01</td>\n",
       "      <td>1</td>\n",
       "      <td>2018-04-02</td>\n",
       "      <td>2015-10-05</td>\n",
       "      <td>清水簡易裁判所</td>\n",
       "      <td>NaN</td>\n",
       "      <td>101</td>\n",
       "      <td>静岡県</td>\n",
       "      <td>...</td>\n",
       "      <td>NaN</td>\n",
       "      <td>NaN</td>\n",
       "      <td>2015-10-05</td>\n",
       "      <td>1</td>\n",
       "      <td>Shimizu Summary Court</td>\n",
       "      <td>Shizuoka</td>\n",
       "      <td>1-6-15, Tenjin, Shimizu ku, Shizuoka shi</td>\n",
       "      <td>NaN</td>\n",
       "      <td>シミズカンイサイバンショ</td>\n",
       "      <td>0</td>\n",
       "    </tr>\n",
       "    <tr>\n",
       "      <th>2</th>\n",
       "      <td>3</td>\n",
       "      <td>1000013050080</td>\n",
       "      <td>01</td>\n",
       "      <td>1</td>\n",
       "      <td>2018-04-02</td>\n",
       "      <td>2015-10-05</td>\n",
       "      <td>浜松簡易裁判所</td>\n",
       "      <td>NaN</td>\n",
       "      <td>101</td>\n",
       "      <td>静岡県</td>\n",
       "      <td>...</td>\n",
       "      <td>NaN</td>\n",
       "      <td>NaN</td>\n",
       "      <td>2015-10-05</td>\n",
       "      <td>1</td>\n",
       "      <td>Hamamatsu Summary Court</td>\n",
       "      <td>Shizuoka</td>\n",
       "      <td>1-12-5, Chuo, Naka ku, Hamamatsu shi</td>\n",
       "      <td>NaN</td>\n",
       "      <td>ハママツカンイサイバンショ</td>\n",
       "      <td>0</td>\n",
       "    </tr>\n",
       "    <tr>\n",
       "      <th>3</th>\n",
       "      <td>4</td>\n",
       "      <td>1000020222119</td>\n",
       "      <td>01</td>\n",
       "      <td>1</td>\n",
       "      <td>2018-04-05</td>\n",
       "      <td>2015-10-05</td>\n",
       "      <td>磐田市</td>\n",
       "      <td>NaN</td>\n",
       "      <td>201</td>\n",
       "      <td>静岡県</td>\n",
       "      <td>...</td>\n",
       "      <td>NaN</td>\n",
       "      <td>NaN</td>\n",
       "      <td>2015-10-05</td>\n",
       "      <td>1</td>\n",
       "      <td>Iwata City</td>\n",
       "      <td>Shizuoka</td>\n",
       "      <td>3-1,Kounodai, Iwata shi</td>\n",
       "      <td>NaN</td>\n",
       "      <td>イワタシ</td>\n",
       "      <td>0</td>\n",
       "    </tr>\n",
       "    <tr>\n",
       "      <th>4</th>\n",
       "      <td>5</td>\n",
       "      <td>1000020222127</td>\n",
       "      <td>01</td>\n",
       "      <td>1</td>\n",
       "      <td>2018-04-05</td>\n",
       "      <td>2015-10-05</td>\n",
       "      <td>焼津市</td>\n",
       "      <td>NaN</td>\n",
       "      <td>201</td>\n",
       "      <td>静岡県</td>\n",
       "      <td>...</td>\n",
       "      <td>NaN</td>\n",
       "      <td>NaN</td>\n",
       "      <td>2015-10-05</td>\n",
       "      <td>1</td>\n",
       "      <td>Yaizu city</td>\n",
       "      <td>Shizuoka</td>\n",
       "      <td>2-16-32 Honmachi, Yaizu shi</td>\n",
       "      <td>NaN</td>\n",
       "      <td>ヤイヅシ</td>\n",
       "      <td>0</td>\n",
       "    </tr>\n",
       "  </tbody>\n",
       "</table>\n",
       "<p>5 rows × 30 columns</p>\n",
       "</div>"
      ],
      "text/plain": [
       "  0              1   2  3           4           5        6    7    8    9   \\\n",
       "0  1  1000013040008  01  1  2018-04-02  2015-10-05  静岡家庭裁判所  NaN  101  静岡県   \n",
       "1  2  1000013050072  01  1  2018-04-02  2015-10-05  清水簡易裁判所  NaN  101  静岡県   \n",
       "2  3  1000013050080  01  1  2018-04-02  2015-10-05  浜松簡易裁判所  NaN  101  静岡県   \n",
       "3  4  1000020222119  01  1  2018-04-05  2015-10-05      磐田市  NaN  201  静岡県   \n",
       "4  5  1000020222127  01  1  2018-04-05  2015-10-05      焼津市  NaN  201  静岡県   \n",
       "\n",
       "   ...   20   21          22 23                       24        25  \\\n",
       "0  ...  NaN  NaN  2015-10-05  1    Shizuoka Family Court  Shizuoka   \n",
       "1  ...  NaN  NaN  2015-10-05  1    Shimizu Summary Court  Shizuoka   \n",
       "2  ...  NaN  NaN  2015-10-05  1  Hamamatsu Summary Court  Shizuoka   \n",
       "3  ...  NaN  NaN  2015-10-05  1               Iwata City  Shizuoka   \n",
       "4  ...  NaN  NaN  2015-10-05  1               Yaizu city  Shizuoka   \n",
       "\n",
       "                                         26   27             28 29  \n",
       "0      1-20, Jonaicho, Aoi ku, Shizuoka shi  NaN  シズオカカテイサイバンショ  0  \n",
       "1  1-6-15, Tenjin, Shimizu ku, Shizuoka shi  NaN   シミズカンイサイバンショ  0  \n",
       "2      1-12-5, Chuo, Naka ku, Hamamatsu shi  NaN  ハママツカンイサイバンショ  0  \n",
       "3                   3-1,Kounodai, Iwata shi  NaN           イワタシ  0  \n",
       "4               2-16-32 Honmachi, Yaizu shi  NaN           ヤイヅシ  0  \n",
       "\n",
       "[5 rows x 30 columns]"
      ]
     },
     "execution_count": 8,
     "metadata": {},
     "output_type": "execute_result"
    }
   ],
   "source": [
    "data = pd.read_csv('./chapter-1/data/22_shizuoka_all_20210331.csv',encoding='shift-jis',header=None,dtype=object)#typeを指定\n",
    "data.head()"
   ]
  },
  {
   "cell_type": "code",
   "execution_count": 9,
   "id": "1640e9a6",
   "metadata": {},
   "outputs": [
    {
     "data": {
      "text/plain": [
       "0     object\n",
       "1     object\n",
       "2     object\n",
       "3     object\n",
       "4     object\n",
       "5     object\n",
       "6     object\n",
       "7     object\n",
       "8     object\n",
       "9     object\n",
       "10    object\n",
       "11    object\n",
       "12    object\n",
       "13    object\n",
       "14    object\n",
       "15    object\n",
       "16    object\n",
       "17    object\n",
       "18    object\n",
       "19    object\n",
       "20    object\n",
       "21    object\n",
       "22    object\n",
       "23    object\n",
       "24    object\n",
       "25    object\n",
       "26    object\n",
       "27    object\n",
       "28    object\n",
       "29    object\n",
       "dtype: object"
      ]
     },
     "execution_count": 9,
     "metadata": {},
     "output_type": "execute_result"
    }
   ],
   "source": [
    "data.dtypes#オーケー"
   ]
  },
  {
   "cell_type": "code",
   "execution_count": 10,
   "id": "16ce9fd4",
   "metadata": {},
   "outputs": [
    {
     "data": {
      "text/html": [
       "<div>\n",
       "<style scoped>\n",
       "    .dataframe tbody tr th:only-of-type {\n",
       "        vertical-align: middle;\n",
       "    }\n",
       "\n",
       "    .dataframe tbody tr th {\n",
       "        vertical-align: top;\n",
       "    }\n",
       "\n",
       "    .dataframe thead th {\n",
       "        text-align: right;\n",
       "    }\n",
       "</style>\n",
       "<table border=\"1\" class=\"dataframe\">\n",
       "  <thead>\n",
       "    <tr style=\"text-align: right;\">\n",
       "      <th></th>\n",
       "      <th>column_id</th>\n",
       "      <th>column_name_ja</th>\n",
       "      <th>column_name_en</th>\n",
       "    </tr>\n",
       "  </thead>\n",
       "  <tbody>\n",
       "    <tr>\n",
       "      <th>0</th>\n",
       "      <td>1</td>\n",
       "      <td>一連番号</td>\n",
       "      <td>sequenceNumber</td>\n",
       "    </tr>\n",
       "    <tr>\n",
       "      <th>1</th>\n",
       "      <td>2</td>\n",
       "      <td>法人番号</td>\n",
       "      <td>corporateNumber</td>\n",
       "    </tr>\n",
       "    <tr>\n",
       "      <th>2</th>\n",
       "      <td>3</td>\n",
       "      <td>処理区分</td>\n",
       "      <td>process</td>\n",
       "    </tr>\n",
       "    <tr>\n",
       "      <th>3</th>\n",
       "      <td>4</td>\n",
       "      <td>訂正区分</td>\n",
       "      <td>correct</td>\n",
       "    </tr>\n",
       "    <tr>\n",
       "      <th>4</th>\n",
       "      <td>5</td>\n",
       "      <td>更新年月日</td>\n",
       "      <td>updateDate</td>\n",
       "    </tr>\n",
       "  </tbody>\n",
       "</table>\n",
       "</div>"
      ],
      "text/plain": [
       "   column_id column_name_ja   column_name_en\n",
       "0          1           一連番号   sequenceNumber\n",
       "1          2           法人番号  corporateNumber\n",
       "2          3           処理区分          process\n",
       "3          4           訂正区分          correct\n",
       "4          5          更新年月日       updateDate"
      ]
     },
     "execution_count": 10,
     "metadata": {},
     "output_type": "execute_result"
    }
   ],
   "source": [
    "#ヘッダ用テキストファイルのファイルの読み込み\n",
    "mst = pd.read_csv('./chapter-1/data/mst_column_name.txt',encoding='shift-jis',sep='\\t')#タブで区切る\n",
    "mst.head()"
   ]
  },
  {
   "cell_type": "code",
   "execution_count": 11,
   "id": "b43d079b",
   "metadata": {},
   "outputs": [
    {
     "name": "stdout",
     "output_type": "stream",
     "text": [
      "30\n"
     ]
    }
   ],
   "source": [
    "print(len(mst))#データ件数"
   ]
  },
  {
   "cell_type": "code",
   "execution_count": 12,
   "id": "d55ba68d",
   "metadata": {},
   "outputs": [
    {
     "data": {
      "text/plain": [
       "True"
      ]
     },
     "execution_count": 12,
     "metadata": {},
     "output_type": "execute_result"
    }
   ],
   "source": [
    "len(mst) == len(data.columns) #件数が一致するかの確認"
   ]
  },
  {
   "cell_type": "code",
   "execution_count": 13,
   "id": "22d6d095",
   "metadata": {},
   "outputs": [],
   "source": [
    "#ヘッダ行の追加\n",
    "columns = mst.column_name_en.values"
   ]
  },
  {
   "cell_type": "code",
   "execution_count": 14,
   "id": "b9e20658",
   "metadata": {},
   "outputs": [
    {
     "data": {
      "text/plain": [
       "array(['sequenceNumber', 'corporateNumber', 'process', 'correct',\n",
       "       'updateDate', 'changeDate', 'name', 'nameImageId', 'kind',\n",
       "       'prefectureName', 'cityName', 'streetNumber', 'addressImageId',\n",
       "       'prefectureCode', 'cityCode', 'postCode', 'addressOutside',\n",
       "       'addressOutsideImageId', 'closeDate', 'closeCause',\n",
       "       'successorCorporateNumber', 'changeCause', 'assignmentDate',\n",
       "       'latest', 'enName', 'enPrefectureName', 'enCityName',\n",
       "       'enAddressOutside', 'furigana', 'hihyoji'], dtype=object)"
      ]
     },
     "execution_count": 14,
     "metadata": {},
     "output_type": "execute_result"
    }
   ],
   "source": [
    "columns"
   ]
  },
  {
   "cell_type": "code",
   "execution_count": 15,
   "id": "42e09000",
   "metadata": {},
   "outputs": [
    {
     "data": {
      "text/html": [
       "<div>\n",
       "<style scoped>\n",
       "    .dataframe tbody tr th:only-of-type {\n",
       "        vertical-align: middle;\n",
       "    }\n",
       "\n",
       "    .dataframe tbody tr th {\n",
       "        vertical-align: top;\n",
       "    }\n",
       "\n",
       "    .dataframe thead th {\n",
       "        text-align: right;\n",
       "    }\n",
       "</style>\n",
       "<table border=\"1\" class=\"dataframe\">\n",
       "  <thead>\n",
       "    <tr style=\"text-align: right;\">\n",
       "      <th></th>\n",
       "      <th>sequenceNumber</th>\n",
       "      <th>corporateNumber</th>\n",
       "      <th>process</th>\n",
       "      <th>correct</th>\n",
       "      <th>updateDate</th>\n",
       "      <th>changeDate</th>\n",
       "      <th>name</th>\n",
       "      <th>nameImageId</th>\n",
       "      <th>kind</th>\n",
       "      <th>prefectureName</th>\n",
       "      <th>...</th>\n",
       "      <th>successorCorporateNumber</th>\n",
       "      <th>changeCause</th>\n",
       "      <th>assignmentDate</th>\n",
       "      <th>latest</th>\n",
       "      <th>enName</th>\n",
       "      <th>enPrefectureName</th>\n",
       "      <th>enCityName</th>\n",
       "      <th>enAddressOutside</th>\n",
       "      <th>furigana</th>\n",
       "      <th>hihyoji</th>\n",
       "    </tr>\n",
       "  </thead>\n",
       "  <tbody>\n",
       "    <tr>\n",
       "      <th>0</th>\n",
       "      <td>1</td>\n",
       "      <td>1000013040008</td>\n",
       "      <td>01</td>\n",
       "      <td>1</td>\n",
       "      <td>2018-04-02</td>\n",
       "      <td>2015-10-05</td>\n",
       "      <td>静岡家庭裁判所</td>\n",
       "      <td>NaN</td>\n",
       "      <td>101</td>\n",
       "      <td>静岡県</td>\n",
       "      <td>...</td>\n",
       "      <td>NaN</td>\n",
       "      <td>NaN</td>\n",
       "      <td>2015-10-05</td>\n",
       "      <td>1</td>\n",
       "      <td>Shizuoka Family Court</td>\n",
       "      <td>Shizuoka</td>\n",
       "      <td>1-20, Jonaicho, Aoi ku, Shizuoka shi</td>\n",
       "      <td>NaN</td>\n",
       "      <td>シズオカカテイサイバンショ</td>\n",
       "      <td>0</td>\n",
       "    </tr>\n",
       "    <tr>\n",
       "      <th>1</th>\n",
       "      <td>2</td>\n",
       "      <td>1000013050072</td>\n",
       "      <td>01</td>\n",
       "      <td>1</td>\n",
       "      <td>2018-04-02</td>\n",
       "      <td>2015-10-05</td>\n",
       "      <td>清水簡易裁判所</td>\n",
       "      <td>NaN</td>\n",
       "      <td>101</td>\n",
       "      <td>静岡県</td>\n",
       "      <td>...</td>\n",
       "      <td>NaN</td>\n",
       "      <td>NaN</td>\n",
       "      <td>2015-10-05</td>\n",
       "      <td>1</td>\n",
       "      <td>Shimizu Summary Court</td>\n",
       "      <td>Shizuoka</td>\n",
       "      <td>1-6-15, Tenjin, Shimizu ku, Shizuoka shi</td>\n",
       "      <td>NaN</td>\n",
       "      <td>シミズカンイサイバンショ</td>\n",
       "      <td>0</td>\n",
       "    </tr>\n",
       "    <tr>\n",
       "      <th>2</th>\n",
       "      <td>3</td>\n",
       "      <td>1000013050080</td>\n",
       "      <td>01</td>\n",
       "      <td>1</td>\n",
       "      <td>2018-04-02</td>\n",
       "      <td>2015-10-05</td>\n",
       "      <td>浜松簡易裁判所</td>\n",
       "      <td>NaN</td>\n",
       "      <td>101</td>\n",
       "      <td>静岡県</td>\n",
       "      <td>...</td>\n",
       "      <td>NaN</td>\n",
       "      <td>NaN</td>\n",
       "      <td>2015-10-05</td>\n",
       "      <td>1</td>\n",
       "      <td>Hamamatsu Summary Court</td>\n",
       "      <td>Shizuoka</td>\n",
       "      <td>1-12-5, Chuo, Naka ku, Hamamatsu shi</td>\n",
       "      <td>NaN</td>\n",
       "      <td>ハママツカンイサイバンショ</td>\n",
       "      <td>0</td>\n",
       "    </tr>\n",
       "    <tr>\n",
       "      <th>3</th>\n",
       "      <td>4</td>\n",
       "      <td>1000020222119</td>\n",
       "      <td>01</td>\n",
       "      <td>1</td>\n",
       "      <td>2018-04-05</td>\n",
       "      <td>2015-10-05</td>\n",
       "      <td>磐田市</td>\n",
       "      <td>NaN</td>\n",
       "      <td>201</td>\n",
       "      <td>静岡県</td>\n",
       "      <td>...</td>\n",
       "      <td>NaN</td>\n",
       "      <td>NaN</td>\n",
       "      <td>2015-10-05</td>\n",
       "      <td>1</td>\n",
       "      <td>Iwata City</td>\n",
       "      <td>Shizuoka</td>\n",
       "      <td>3-1,Kounodai, Iwata shi</td>\n",
       "      <td>NaN</td>\n",
       "      <td>イワタシ</td>\n",
       "      <td>0</td>\n",
       "    </tr>\n",
       "    <tr>\n",
       "      <th>4</th>\n",
       "      <td>5</td>\n",
       "      <td>1000020222127</td>\n",
       "      <td>01</td>\n",
       "      <td>1</td>\n",
       "      <td>2018-04-05</td>\n",
       "      <td>2015-10-05</td>\n",
       "      <td>焼津市</td>\n",
       "      <td>NaN</td>\n",
       "      <td>201</td>\n",
       "      <td>静岡県</td>\n",
       "      <td>...</td>\n",
       "      <td>NaN</td>\n",
       "      <td>NaN</td>\n",
       "      <td>2015-10-05</td>\n",
       "      <td>1</td>\n",
       "      <td>Yaizu city</td>\n",
       "      <td>Shizuoka</td>\n",
       "      <td>2-16-32 Honmachi, Yaizu shi</td>\n",
       "      <td>NaN</td>\n",
       "      <td>ヤイヅシ</td>\n",
       "      <td>0</td>\n",
       "    </tr>\n",
       "  </tbody>\n",
       "</table>\n",
       "<p>5 rows × 30 columns</p>\n",
       "</div>"
      ],
      "text/plain": [
       "  sequenceNumber corporateNumber process correct  updateDate  changeDate  \\\n",
       "0              1   1000013040008      01       1  2018-04-02  2015-10-05   \n",
       "1              2   1000013050072      01       1  2018-04-02  2015-10-05   \n",
       "2              3   1000013050080      01       1  2018-04-02  2015-10-05   \n",
       "3              4   1000020222119      01       1  2018-04-05  2015-10-05   \n",
       "4              5   1000020222127      01       1  2018-04-05  2015-10-05   \n",
       "\n",
       "      name nameImageId kind prefectureName  ... successorCorporateNumber  \\\n",
       "0  静岡家庭裁判所         NaN  101            静岡県  ...                      NaN   \n",
       "1  清水簡易裁判所         NaN  101            静岡県  ...                      NaN   \n",
       "2  浜松簡易裁判所         NaN  101            静岡県  ...                      NaN   \n",
       "3      磐田市         NaN  201            静岡県  ...                      NaN   \n",
       "4      焼津市         NaN  201            静岡県  ...                      NaN   \n",
       "\n",
       "  changeCause assignmentDate latest                   enName enPrefectureName  \\\n",
       "0         NaN     2015-10-05      1    Shizuoka Family Court         Shizuoka   \n",
       "1         NaN     2015-10-05      1    Shimizu Summary Court         Shizuoka   \n",
       "2         NaN     2015-10-05      1  Hamamatsu Summary Court         Shizuoka   \n",
       "3         NaN     2015-10-05      1               Iwata City         Shizuoka   \n",
       "4         NaN     2015-10-05      1               Yaizu city         Shizuoka   \n",
       "\n",
       "                                 enCityName enAddressOutside       furigana  \\\n",
       "0      1-20, Jonaicho, Aoi ku, Shizuoka shi              NaN  シズオカカテイサイバンショ   \n",
       "1  1-6-15, Tenjin, Shimizu ku, Shizuoka shi              NaN   シミズカンイサイバンショ   \n",
       "2      1-12-5, Chuo, Naka ku, Hamamatsu shi              NaN  ハママツカンイサイバンショ   \n",
       "3                   3-1,Kounodai, Iwata shi              NaN           イワタシ   \n",
       "4               2-16-32 Honmachi, Yaizu shi              NaN           ヤイヅシ   \n",
       "\n",
       "  hihyoji  \n",
       "0       0  \n",
       "1       0  \n",
       "2       0  \n",
       "3       0  \n",
       "4       0  \n",
       "\n",
       "[5 rows x 30 columns]"
      ]
     },
     "execution_count": 15,
     "metadata": {},
     "output_type": "execute_result"
    }
   ],
   "source": [
    "data.columns = columns \n",
    "data.head()"
   ]
  },
  {
   "cell_type": "code",
   "execution_count": null,
   "id": "0ef2c2de",
   "metadata": {},
   "outputs": [],
   "source": [
    "#統計量,欠損値の確認\n",
    "data.describe()#count:要素個数,unique:ユニーク個数,top:最頻値,freq:最頻値の出現回数"
   ]
  },
  {
   "cell_type": "code",
   "execution_count": null,
   "id": "103bc072",
   "metadata": {},
   "outputs": [],
   "source": [
    "data.isna()#欠損値の確認"
   ]
  },
  {
   "cell_type": "code",
   "execution_count": null,
   "id": "a84d151a",
   "metadata": {},
   "outputs": [],
   "source": [
    "data.isna().sum()#欠損値の確認の集計"
   ]
  },
  {
   "cell_type": "code",
   "execution_count": null,
   "id": "d02b369a",
   "metadata": {},
   "outputs": [],
   "source": [
    "#新しいデータの追加、整形"
   ]
  },
  {
   "cell_type": "code",
   "execution_count": null,
   "id": "aa6f34b5",
   "metadata": {},
   "outputs": [],
   "source": [
    "from glob import glob\n",
    "diff_files = glob('./chapter-1/data/diff*.csv')\n",
    "diff_files"
   ]
  },
  {
   "cell_type": "code",
   "execution_count": null,
   "id": "d6d1853a",
   "metadata": {},
   "outputs": [],
   "source": [
    "diff_files.sort()\n",
    "diff = pd.read_csv(diff_files[0],encoding='shift-jis',header=None,dtype=object)\n",
    "print(len(diff))\n",
    "diff.head(3)"
   ]
  },
  {
   "cell_type": "code",
   "execution_count": null,
   "id": "5c4cff22",
   "metadata": {},
   "outputs": [],
   "source": [
    "diff.columns = columns\n",
    "diff = diff.loc[diff['prefectureName'] == '静岡県']#静岡県に絞り込む,loc[diff[]]\n",
    "print(len(diff))\n",
    "diff.head(3)"
   ]
  },
  {
   "cell_type": "code",
   "execution_count": null,
   "id": "9fa441fe",
   "metadata": {},
   "outputs": [],
   "source": [
    "#データの結合\n",
    "data_test = data              #テスト用にコピー\n",
    "print(len(data_test))         #既存の件数確認\n",
    "print(len(data_test) == len(data))#件数正しいか確認\n",
    "print(len(diff))              #差分のが件数確認\n",
    "data_test = data_test.append(diff)#テスト用の変数に差分データを追加\n",
    "print(len(data_test))      #追加後の件数を確認\n",
    "data_test.tail(3)         #追加後のデータ末尾3件を確認"
   ]
  },
  {
   "cell_type": "code",
   "execution_count": null,
   "id": "decedea5",
   "metadata": {},
   "outputs": [],
   "source": [
    "#結合ループの実装\n",
    "for f in diff_files:\n",
    "    diff = pd.read_csv(f, encoding='shift-jis', header=None, dtype=object)\n",
    "    diff.columns = columns\n",
    "    diff = diff.loc[diff['prefectureName'] == '静岡県']\n",
    "    data = data.append(diff)\n",
    "data"
   ]
  },
  {
   "cell_type": "code",
   "execution_count": null,
   "id": "88e27f32",
   "metadata": {},
   "outputs": [],
   "source": [
    "data.describe()"
   ]
  },
  {
   "cell_type": "code",
   "execution_count": null,
   "id": "f5a69acc",
   "metadata": {},
   "outputs": [],
   "source": [
    "print(data[data[\"corporateNumber\"].duplicated()])#重複データの確認"
   ]
  },
  {
   "cell_type": "code",
   "execution_count": null,
   "id": "bc160703",
   "metadata": {},
   "outputs": [],
   "source": [
    "data.drop_duplicates(subset='corporateNumber',keep='last', inplace=True)#重複データの削除\n",
    "data.describe()#sunset=重複確認対象, keep=last最終行を残す,inplace中身の書き換え"
   ]
  },
  {
   "cell_type": "code",
   "execution_count": null,
   "id": "d0c19ee3",
   "metadata": {},
   "outputs": [],
   "source": [
    "data.isna().sum()#欠損値の確認"
   ]
  },
  {
   "cell_type": "code",
   "execution_count": null,
   "id": "4398ccb9",
   "metadata": {},
   "outputs": [],
   "source": [
    "#マスタの読み込み\n",
    "mst_process_kbn = pd.read_csv('./chapter-1/data/mst_process_kbn.csv',dtype=object)\n",
    "mst_process_kbn"
   ]
  },
  {
   "cell_type": "code",
   "execution_count": null,
   "id": "3191aca4",
   "metadata": {},
   "outputs": [],
   "source": [
    "data= data.merge(mst_process_kbn, on='process', how='left')#キーとして紐づける名称の追加"
   ]
  },
  {
   "cell_type": "code",
   "execution_count": null,
   "id": "753cb0c9",
   "metadata": {},
   "outputs": [],
   "source": [
    "print(len(data.columns))\n",
    "data.head(3)"
   ]
  },
  {
   "cell_type": "code",
   "execution_count": null,
   "id": "29b53b21",
   "metadata": {},
   "outputs": [],
   "source": [
    "mst_correct_kbn = pd.read_csv('./chapter-1/data/mst_correct_kbn.csv', encoding='shift-jis', dtype=object)\n",
    "mst_correct_kbn"
   ]
  },
  {
   "cell_type": "code",
   "execution_count": null,
   "id": "dd2f03f5",
   "metadata": {},
   "outputs": [],
   "source": [
    "data = data.merge(mst_correct_kbn, on='correct', how='left')\n",
    "print(len(data.columns))\n",
    "data.head(3)"
   ]
  },
  {
   "cell_type": "code",
   "execution_count": null,
   "id": "204c7c8a",
   "metadata": {},
   "outputs": [],
   "source": [
    "mst_crop_kind = pd.read_csv('./chapter-1/data/mst_corp_kind.csv',dtype=object)\n",
    "mst_crop_kind"
   ]
  },
  {
   "cell_type": "code",
   "execution_count": null,
   "id": "a2fc03d0",
   "metadata": {},
   "outputs": [],
   "source": [
    "data = data.merge(mst_crop_kind, on='kind', how='left')\n",
    "print(len(data.columns))\n",
    "data.head(3)"
   ]
  },
  {
   "cell_type": "code",
   "execution_count": null,
   "id": "e91a881a",
   "metadata": {},
   "outputs": [],
   "source": [
    "mst_closeCause = pd.read_csv('./chapter-1/data/mst_closeCause.csv',dtype=object)\n",
    "mst_closeCause"
   ]
  },
  {
   "cell_type": "code",
   "execution_count": null,
   "id": "6f8698a9",
   "metadata": {},
   "outputs": [],
   "source": [
    "data = data.merge(mst_closeCause, on='closeCause', how='left')\n",
    "print(len(data.columns))\n",
    "data.head(3)"
   ]
  },
  {
   "cell_type": "code",
   "execution_count": null,
   "id": "d4e4c49e",
   "metadata": {},
   "outputs": [],
   "source": [
    "mst_latest= pd.read_csv('./chapter-1/data/mst_latest.csv',dtype=object)\n",
    "mst_latest"
   ]
  },
  {
   "cell_type": "code",
   "execution_count": null,
   "id": "b49fb8e9",
   "metadata": {},
   "outputs": [],
   "source": [
    "data = data.merge(mst_latest, on='latest', how='left')\n",
    "print(len(data.columns))\n",
    "data.head(3)"
   ]
  },
  {
   "cell_type": "code",
   "execution_count": null,
   "id": "9a1a8e18",
   "metadata": {},
   "outputs": [],
   "source": [
    "mst_hihyoji = pd.read_csv('./chapter-1/data/mst_hihyoji.csv',dtype=object)\n",
    "mst_hihyoji"
   ]
  },
  {
   "cell_type": "code",
   "execution_count": null,
   "id": "772034b1",
   "metadata": {},
   "outputs": [],
   "source": [
    "data = data.merge(mst_hihyoji, on='hihyoji', how='left')\n",
    "print(len(data.columns))\n",
    "data.head(3)"
   ]
  },
  {
   "cell_type": "code",
   "execution_count": null,
   "id": "c8748a94",
   "metadata": {},
   "outputs": [],
   "source": [
    "#テキストの分割と連結\n",
    "data[['prefectureName', 'cityName', 'streetNumber']].isna().sum()#欠損値の確認"
   ]
  },
  {
   "cell_type": "code",
   "execution_count": null,
   "id": "4201285f",
   "metadata": {},
   "outputs": [],
   "source": [
    "data['address'] = data['prefectureName'] + data['cityName'] + data['streetNumber']\n",
    "print(len(data.columns))\n",
    "data.head(3)#欠損値データの補完"
   ]
  },
  {
   "cell_type": "code",
   "execution_count": null,
   "id": "a82a4c9d",
   "metadata": {},
   "outputs": [],
   "source": [
    "data.loc[data['streetNumber'].isna()].head(3)"
   ]
  },
  {
   "cell_type": "code",
   "execution_count": null,
   "id": "6322ca15",
   "metadata": {},
   "outputs": [],
   "source": [
    "data['address'].loc[data['streetNumber'].isna()] = data['prefectureName'] + data['cityName']#欠損値の抽出＋結合"
   ]
  },
  {
   "cell_type": "code",
   "execution_count": null,
   "id": "6d4c2d80",
   "metadata": {},
   "outputs": [],
   "source": [
    "print(data['address'].isna().sum())\n",
    "data.loc[data['streetNumber'].isna()].head(3)"
   ]
  },
  {
   "cell_type": "code",
   "execution_count": null,
   "id": "9add133c",
   "metadata": {},
   "outputs": [],
   "source": [
    "data.head(3)"
   ]
  },
  {
   "cell_type": "code",
   "execution_count": null,
   "id": "74a8e655",
   "metadata": {},
   "outputs": [],
   "source": [
    "#テキストの分割\n",
    "data['postCode_head'] = data['postCode'].str[:3]\n",
    "print(len(data.columns))\n",
    "data.head(3)"
   ]
  },
  {
   "cell_type": "code",
   "execution_count": null,
   "id": "68e33fc6",
   "metadata": {},
   "outputs": [],
   "source": [
    "#郵便番号の処理\n",
    "data['postCode_head'] = data['postCode'].str[-4:]\n",
    "print(len(data.columns))\n",
    "data.head(3)"
   ]
  },
  {
   "cell_type": "code",
   "execution_count": null,
   "id": "3248874f",
   "metadata": {},
   "outputs": [],
   "source": [
    "#日付の加工\n",
    "tmp = pd.to_datetime(data['closeDate'])\n",
    "tmp.dtypes"
   ]
  },
  {
   "cell_type": "code",
   "execution_count": null,
   "id": "e53a5ad7",
   "metadata": {},
   "outputs": [],
   "source": [
    "#ループの変換,型の変換\n",
    "dt_columns = ['updateDate','changeDate','closeDate','assignmentDate']\n",
    "for col in dt_columns:\n",
    "    data[col]  = pd.to_datetime(data[col])"
   ]
  },
  {
   "cell_type": "code",
   "execution_count": null,
   "id": "21fb2f37",
   "metadata": {},
   "outputs": [],
   "source": [
    "data.dtypes"
   ]
  },
  {
   "cell_type": "code",
   "execution_count": null,
   "id": "dd6e383e",
   "metadata": {},
   "outputs": [],
   "source": [
    "data['corporate_life'] = data['closeDate'] - data['assignmentDate']\n",
    "print(len(data.columns))\n",
    "data.head(3)"
   ]
  },
  {
   "cell_type": "code",
   "execution_count": null,
   "id": "b4ae6ac8",
   "metadata": {},
   "outputs": [],
   "source": [
    "tmp = data.loc[data['closeDate'].notna()]\n",
    "print(len(tmp))\n",
    "tmp.head(3)#欠損値でないデータ"
   ]
  },
  {
   "cell_type": "code",
   "execution_count": null,
   "id": "1ebae1f4",
   "metadata": {},
   "outputs": [],
   "source": [
    "len(data.loc[data['closeCause'].notna()]) == len(data.loc[data['closeDate'].notna()])#確認"
   ]
  },
  {
   "cell_type": "code",
   "execution_count": null,
   "id": "54f3e95f",
   "metadata": {},
   "outputs": [],
   "source": [
    "data['update_YM'] = data['updateDate'].dt.to_period('M')\n",
    "print(len(data.columns))\n",
    "data.head()#年月の設定"
   ]
  },
  {
   "cell_type": "code",
   "execution_count": null,
   "id": "8458b5c4",
   "metadata": {},
   "outputs": [],
   "source": [
    "#ループ処理\n",
    "dt_prefixes = ['assignment', 'change', 'update', 'close']\n",
    "for pre in dt_prefixes:\n",
    "    data[f'f{pre}_YM'] = data[f'{pre}Date'].dt.to_period('M')#f{}は文字列に変数の埋め込みができる"
   ]
  },
  {
   "cell_type": "code",
   "execution_count": null,
   "id": "3947e5cc",
   "metadata": {},
   "outputs": [],
   "source": [
    "data.head()"
   ]
  },
  {
   "cell_type": "code",
   "execution_count": null,
   "id": "8c4984c0",
   "metadata": {},
   "outputs": [],
   "source": [
    "data.dtypes"
   ]
  },
  {
   "cell_type": "code",
   "execution_count": null,
   "id": "1b1bb8b3",
   "metadata": {},
   "outputs": [],
   "source": [
    "#年度の設定、取得\n",
    "data['update_year'] = pd.DatetimeIndex(data['updateDate']).year\n",
    "data['update_month'] = pd.DatetimeIndex(data['updateDate']).month\n",
    "data['update_fiscal_year'] = pd.DatetimeIndex(data['updateDate']).year\n",
    "data.loc[data['update_month'] < 4, 'update_fiscal_year'] -= 1"
   ]
  },
  {
   "cell_type": "code",
   "execution_count": null,
   "id": "bcaa9289",
   "metadata": {},
   "outputs": [],
   "source": [
    "print(len(data.columns))\n",
    "data.head(3)"
   ]
  },
  {
   "cell_type": "code",
   "execution_count": null,
   "id": "e2d0455e",
   "metadata": {},
   "outputs": [],
   "source": [
    "for i in range(12):\n",
    "    display(data[['update_YM', 'update_fiscal_year']].loc[data['update_month'] == i+1][:1])"
   ]
  },
  {
   "cell_type": "code",
   "execution_count": null,
   "id": "1a62748a",
   "metadata": {},
   "outputs": [],
   "source": [
    "#加工したデータをファイルに出力する\n",
    "import os\n",
    "output_dir = './output'\n",
    "os.makedirs(output_dir, exist_ok=True)"
   ]
  },
  {
   "cell_type": "markdown",
   "id": "a95876f8",
   "metadata": {},
   "source": [
    "output_file = 'processed_shizuoka.csv'\n",
    "data.to_csv(os.path.join(output_dir, output_file), index=False)#csv出力"
   ]
  },
  {
   "cell_type": "markdown",
   "id": "4a596ad6",
   "metadata": {},
   "source": [
    "output_file = output_file.replace('.csv', '.xlsx')\n",
    "data.to_excel(os.path.join(output_dir, output_file), index=False)#Excel出力"
   ]
  },
  {
   "cell_type": "code",
   "execution_count": null,
   "id": "feb7aad4",
   "metadata": {},
   "outputs": [],
   "source": [
    "#不要な項目の削除と並べ替え\n",
    "data = data[['cityName', 'corporateNumber','name','corp_kind_name', 'process','process_kbn_name','assignmentDate', 'updateDate', 'update_fiscal_year','update_YM']]"
   ]
  },
  {
   "cell_type": "code",
   "execution_count": null,
   "id": "a2b53686",
   "metadata": {},
   "outputs": [],
   "source": [
    "print(len(data.columns))\n",
    "print(data.columns)\n",
    "data.head(3)#必要なデータのみ抽出し表示する"
   ]
  },
  {
   "cell_type": "code",
   "execution_count": null,
   "id": "6326b94b",
   "metadata": {},
   "outputs": [],
   "source": [
    "data = data.drop(columns = 'process')\n",
    "print(data.columns)\n",
    "data.head(3)#一行の削除"
   ]
  },
  {
   "cell_type": "code",
   "execution_count": null,
   "id": "4109e319",
   "metadata": {},
   "outputs": [],
   "source": [
    "#集計\n",
    "tmp = data.groupby('corp_kind_name').size()#グループ化\n",
    "tmp"
   ]
  },
  {
   "cell_type": "code",
   "execution_count": null,
   "id": "9ede7e32",
   "metadata": {},
   "outputs": [],
   "source": [
    "tmp.sort_values(inplace=True, ascending=False)\n",
    "tmp"
   ]
  },
  {
   "cell_type": "code",
   "execution_count": null,
   "id": "406ac2a9",
   "metadata": {},
   "outputs": [],
   "source": [
    "tmp = data.groupby(['update_fiscal_year','corp_kind_name']).size()\n",
    "tmp"
   ]
  },
  {
   "cell_type": "code",
   "execution_count": null,
   "id": "f3582512",
   "metadata": {},
   "outputs": [],
   "source": [
    "pt_data = pd.pivot_table(data, index='corp_kind_name', columns='update_fiscal_year', aggfunc='size')#aggfunc=集計方法\n",
    "pt_data"
   ]
  },
  {
   "cell_type": "code",
   "execution_count": null,
   "id": "f345b36c",
   "metadata": {},
   "outputs": [],
   "source": [
    "tmp = data.groupby('cityName').size()\n",
    "tmp.head()"
   ]
  },
  {
   "cell_type": "code",
   "execution_count": null,
   "id": "02d9948a",
   "metadata": {},
   "outputs": [],
   "source": [
    "x = tmp.index\n",
    "y = tmp.values\n",
    "plt.figure(figsize=(20,100))#size\n",
    "plt.bar(x, y)"
   ]
  },
  {
   "cell_type": "code",
   "execution_count": null,
   "id": "eb4b3393",
   "metadata": {},
   "outputs": [],
   "source": [
    "tmp.sort_values(inplace=True, ascending=True)\n",
    "tmp"
   ]
  },
  {
   "cell_type": "code",
   "execution_count": null,
   "id": "b12d6f8f",
   "metadata": {},
   "outputs": [],
   "source": [
    "x = tmp.index\n",
    "y = tmp.values\n",
    "plt.figure(figsize=(10,15))#size\n",
    "plt.barh(x, y)"
   ]
  },
  {
   "cell_type": "code",
   "execution_count": null,
   "id": "0afbaebb",
   "metadata": {},
   "outputs": [],
   "source": [
    "tmp.sort_values(inplace=True, ascending=False)\n",
    "plt.figure(figsize=(20,10))\n",
    "x = tmp[:10].index\n",
    "y = tmp[:10].values\n",
    "plt.bar(x, y)"
   ]
  },
  {
   "cell_type": "code",
   "execution_count": null,
   "id": "1cfaa82c",
   "metadata": {},
   "outputs": [],
   "source": [
    "plt.figure(figsize=(20,10))\n",
    "plt.bar(x, y)\n",
    "plt.title('市区町村別の法人数',fontsize=20)\n",
    "plt.xlabel('市区町村名',fontsize=15)\n",
    "plt.ylabel('法人数')"
   ]
  },
  {
   "cell_type": "code",
   "execution_count": null,
   "id": "22df662a",
   "metadata": {},
   "outputs": [],
   "source": [
    "#グラフの見た目を変える\n",
    "tmp.sort_values(inplace=True,ascending=False)\n",
    "tmp = tmp[:10]\n",
    "x = tmp.index\n",
    "y = tmp.values\n",
    "fig, ax = plt.subplots(figsize=(20,10))\n",
    "bar_list = ax.bar(x,y, color='lightgray')\n",
    "bar_list[4].set_color('blue')\n",
    "ax.set_title('自治体別法人数における富士市の位置付け',fontsize=20);\n",
    "ax.set_ylabel('法人数',fontsize=15)\n",
    "ax.text(7.5, 9000,'上位10の自治体を抜粋して表示,富士市の職員が法人誘致に力を入れようとしている',fontsize=15)"
   ]
  },
  {
   "cell_type": "code",
   "execution_count": null,
   "id": "aed28768",
   "metadata": {},
   "outputs": [],
   "source": [
    "#新規法人数の可視化\n",
    "base_time = pd.Timestamp.now(tz='Asia/Tokyo')\n",
    "base_time"
   ]
  },
  {
   "cell_type": "code",
   "execution_count": null,
   "id": "63dc2a71",
   "metadata": {},
   "outputs": [],
   "source": [
    "print(len(data))\n",
    "data.head()"
   ]
  },
  {
   "cell_type": "code",
   "execution_count": null,
   "id": "ae497578",
   "metadata": {},
   "outputs": [],
   "source": [
    "#型の変換\n",
    "data['assignmentDate'] = data['assignmentDate'].dt.tz_localize('Asia/Tokyo')\n",
    "data.head()"
   ]
  },
  {
   "cell_type": "code",
   "execution_count": null,
   "id": "d39cbf4c",
   "metadata": {},
   "outputs": [],
   "source": [
    "#対象データの絞り込み\n",
    "delta = pd.Timedelta(90, 'days')\n",
    "tmp = data.loc[(data['process_kbn_name'] == '新規') & (base_time - data['assignmentDate'] <= delta)]\n",
    "print(len(tmp))\n",
    "tmp.head()"
   ]
  },
  {
   "cell_type": "code",
   "execution_count": null,
   "id": "e5a6dd12",
   "metadata": {},
   "outputs": [],
   "source": [
    "tmp = data.groupby('cityName').size()\n",
    "tmp.sort_values(inplace=True, ascending=False)\n",
    "tmp = tmp[:10]\n",
    "x = tmp.index\n",
    "y = tmp.values\n",
    "plt.figure(figsize=(20,10))\n",
    "plt.bar(x, y)"
   ]
  },
  {
   "cell_type": "code",
   "execution_count": null,
   "id": "26fb6310",
   "metadata": {},
   "outputs": [],
   "source": [
    "#指定時刻を基にした絞り込み結果\n",
    "base_time = pd.Timestamp('2020-04-16', tz='Asia/Tokyo')\n",
    "tmp = data.loc[(data['process_kbn_name'] == '新規') & (base_time -data['assignmentDate'] <= delta)]\n",
    "print(len(tmp))\n",
    "tmp.head()"
   ]
  },
  {
   "cell_type": "code",
   "execution_count": null,
   "id": "5686800c",
   "metadata": {},
   "outputs": [],
   "source": [
    "tmp = data.groupby('cityName').size()\n",
    "tmp.sort_values(inplace=True, ascending=False)\n",
    "tmp = tmp[:10]\n",
    "x = tmp.index\n",
    "y = tmp.values\n",
    "plt.figure(figsize=(20,10))\n",
    "plt.bar(x, y)"
   ]
  },
  {
   "cell_type": "code",
   "execution_count": null,
   "id": "270ad4eb",
   "metadata": {},
   "outputs": [],
   "source": [
    "#年度別の推移の可視化\n",
    "tmp = data.dropna(subset=['cityName'])\n",
    "tmp = tmp.loc[tmp['cityName'].str.match('^.*区$')]\n",
    "print(len(tmp))\n",
    "tmp.head()"
   ]
  },
  {
   "cell_type": "code",
   "execution_count": null,
   "id": "7c913599",
   "metadata": {},
   "outputs": [],
   "source": [
    "#対象年月で絞り込んだデータ\n",
    "tmp.loc[(tmp['update_fiscal_year'] >= 2016) & (tmp['update_fiscal_year'] < 2021)]\n",
    "print(len(tmp))\n",
    "tmp.head()"
   ]
  },
  {
   "cell_type": "code",
   "execution_count": null,
   "id": "b102ae72",
   "metadata": {},
   "outputs": [],
   "source": [
    "#グループ化後のデータ\n",
    "tmp = tmp.groupby(['cityName', 'update_fiscal_year']).size()\n",
    "tmp.name = 'count'\n",
    "tmp = tmp.reset_index()\n",
    "print(len(tmp))\n",
    "tmp.head(6)"
   ]
  },
  {
   "cell_type": "code",
   "execution_count": null,
   "id": "f33be53c",
   "metadata": {},
   "outputs": [],
   "source": [
    "#年度別推移の折れ線グラフ\n",
    "import seaborn as sns\n",
    "from matplotlib.ticker import MaxNLocator\n",
    "\n",
    "plt.figure(figsize=(20,10))\n",
    "plt.gca().xaxis.set_major_locator(MaxNLocator(integer=True))\n",
    "img = sns.lineplot(x=tmp['update_fiscal_year'], y=tmp['count'], hue=tmp['cityName'])"
   ]
  },
  {
   "cell_type": "code",
   "execution_count": null,
   "id": "ea0f5222",
   "metadata": {},
   "outputs": [],
   "source": [
    "data_file = 'knock20_graphdata.csv'\n",
    "data.to_csv(os.path.join(output_dir, data_file), index=False)"
   ]
  },
  {
   "cell_type": "code",
   "execution_count": null,
   "id": "6f3732a6",
   "metadata": {},
   "outputs": [],
   "source": [
    "graph_file = 'knock20_graph.png'\n",
    "fig = img.get_figure()\n"
   ]
  }
 ],
 "metadata": {
  "kernelspec": {
   "display_name": "Python 3",
   "language": "python",
   "name": "python3"
  },
  "language_info": {
   "codemirror_mode": {
    "name": "ipython",
    "version": 3
   },
   "file_extension": ".py",
   "mimetype": "text/x-python",
   "name": "python",
   "nbconvert_exporter": "python",
   "pygments_lexer": "ipython3",
   "version": "3.8.8"
  }
 },
 "nbformat": 4,
 "nbformat_minor": 5
}
