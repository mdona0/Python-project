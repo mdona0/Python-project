{
 "cells": [
  {
   "cell_type": "code",
   "execution_count": 1,
   "id": "68ff3929",
   "metadata": {},
   "outputs": [],
   "source": [
    "tup = tuple(['foo', [1, 2],  True])"
   ]
  },
  {
   "cell_type": "code",
   "execution_count": 2,
   "id": "e69085a8",
   "metadata": {},
   "outputs": [],
   "source": [
    "tup[1].append(3)"
   ]
  },
  {
   "cell_type": "code",
   "execution_count": 3,
   "id": "40b6db12",
   "metadata": {},
   "outputs": [
    {
     "data": {
      "text/plain": [
       "('foo', [1, 2, 3], True)"
      ]
     },
     "execution_count": 3,
     "metadata": {},
     "output_type": "execute_result"
    }
   ],
   "source": [
    "tup"
   ]
  },
  {
   "cell_type": "code",
   "execution_count": 6,
   "id": "df094e9e",
   "metadata": {},
   "outputs": [
    {
     "data": {
      "text/plain": [
       "'I dont understabd my saddness experience'"
      ]
     },
     "execution_count": 6,
     "metadata": {},
     "output_type": "execute_result"
    }
   ],
   "source": [
    "('I dont understabd') + (' my saddness experience')"
   ]
  },
  {
   "cell_type": "code",
   "execution_count": 7,
   "id": "fdd9d40f",
   "metadata": {},
   "outputs": [
    {
     "data": {
      "text/plain": [
       "'expexpexp'"
      ]
     },
     "execution_count": 7,
     "metadata": {},
     "output_type": "execute_result"
    }
   ],
   "source": [
    "('exp') * 3"
   ]
  },
  {
   "cell_type": "code",
   "execution_count": 8,
   "id": "e8f17d3f",
   "metadata": {},
   "outputs": [],
   "source": [
    "tup1 = (1, 2, 3)"
   ]
  },
  {
   "cell_type": "code",
   "execution_count": 14,
   "id": "dd85c3ba",
   "metadata": {},
   "outputs": [],
   "source": [
    "a, b, c = tup"
   ]
  },
  {
   "cell_type": "code",
   "execution_count": 15,
   "id": "44a294dc",
   "metadata": {},
   "outputs": [
    {
     "data": {
      "text/plain": [
       "'foo'"
      ]
     },
     "execution_count": 15,
     "metadata": {},
     "output_type": "execute_result"
    }
   ],
   "source": [
    "a"
   ]
  },
  {
   "cell_type": "code",
   "execution_count": 16,
   "id": "cf020d5a",
   "metadata": {},
   "outputs": [],
   "source": [
    "tup2 = 4, 5, (6, 7)"
   ]
  },
  {
   "cell_type": "code",
   "execution_count": 17,
   "id": "268a34fb",
   "metadata": {},
   "outputs": [],
   "source": [
    "a, b, (c, d) = tup2"
   ]
  },
  {
   "cell_type": "code",
   "execution_count": 18,
   "id": "fc64c772",
   "metadata": {},
   "outputs": [
    {
     "data": {
      "text/plain": [
       "7"
      ]
     },
     "execution_count": 18,
     "metadata": {},
     "output_type": "execute_result"
    }
   ],
   "source": [
    "d"
   ]
  },
  {
   "cell_type": "code",
   "execution_count": 19,
   "id": "799e919d",
   "metadata": {},
   "outputs": [],
   "source": [
    "seq= [(1, 2, 3), (4, 5, 6), (7, 8, 9)]"
   ]
  },
  {
   "cell_type": "code",
   "execution_count": 23,
   "id": "941b31df",
   "metadata": {},
   "outputs": [
    {
     "name": "stdout",
     "output_type": "stream",
     "text": [
      "a = 1, b = 2, c = 3\n",
      "a = 4, b = 5, c = 6\n",
      "a = 7, b = 8, c = 9\n"
     ]
    }
   ],
   "source": [
    "for a, b, c in seq:\n",
    "    print('a = {0}, b = {1}, c = {2}'.format(a, b, c))"
   ]
  },
  {
   "cell_type": "code",
   "execution_count": 25,
   "id": "119035d1",
   "metadata": {},
   "outputs": [],
   "source": [
    "a = (1, 1, 1, 1, 1,1, 1, 1, 1,1 ,1, 1, 1)"
   ]
  },
  {
   "cell_type": "code",
   "execution_count": 26,
   "id": "b959a336",
   "metadata": {},
   "outputs": [
    {
     "data": {
      "text/plain": [
       "13"
      ]
     },
     "execution_count": 26,
     "metadata": {},
     "output_type": "execute_result"
    }
   ],
   "source": [
    "a.count(1)"
   ]
  },
  {
   "cell_type": "code",
   "execution_count": 27,
   "id": "fbe197ac",
   "metadata": {},
   "outputs": [],
   "source": [
    "a_list = [2, 3, 7, None]"
   ]
  },
  {
   "cell_type": "code",
   "execution_count": 28,
   "id": "e2bf0cd9",
   "metadata": {},
   "outputs": [],
   "source": [
    "tup3 = ('foo', 'bar', 'baz')"
   ]
  },
  {
   "cell_type": "code",
   "execution_count": 29,
   "id": "7a74d5fc",
   "metadata": {},
   "outputs": [],
   "source": [
    "b_list =  list(tup3)"
   ]
  },
  {
   "cell_type": "code",
   "execution_count": 30,
   "id": "943a0600",
   "metadata": {},
   "outputs": [
    {
     "data": {
      "text/plain": [
       "['foo', 'bar', 'baz']"
      ]
     },
     "execution_count": 30,
     "metadata": {},
     "output_type": "execute_result"
    }
   ],
   "source": [
    "b_list"
   ]
  },
  {
   "cell_type": "code",
   "execution_count": 31,
   "id": "e45a301b",
   "metadata": {},
   "outputs": [],
   "source": [
    "gen = range(10)"
   ]
  },
  {
   "cell_type": "code",
   "execution_count": 32,
   "id": "203c0e6b",
   "metadata": {},
   "outputs": [
    {
     "data": {
      "text/plain": [
       "range(0, 10)"
      ]
     },
     "execution_count": 32,
     "metadata": {},
     "output_type": "execute_result"
    }
   ],
   "source": [
    "gen"
   ]
  },
  {
   "cell_type": "code",
   "execution_count": 33,
   "id": "c446f1c9",
   "metadata": {},
   "outputs": [
    {
     "data": {
      "text/plain": [
       "[0, 1, 2, 3, 4, 5, 6, 7, 8, 9]"
      ]
     },
     "execution_count": 33,
     "metadata": {},
     "output_type": "execute_result"
    }
   ],
   "source": [
    "list(gen)"
   ]
  },
  {
   "cell_type": "code",
   "execution_count": 35,
   "id": "3b871a33",
   "metadata": {},
   "outputs": [],
   "source": [
    "b_list.append('dwarf')"
   ]
  },
  {
   "cell_type": "code",
   "execution_count": 36,
   "id": "bed93318",
   "metadata": {},
   "outputs": [
    {
     "data": {
      "text/plain": [
       "['foo', 'bar', 'baz', 'dwarf']"
      ]
     },
     "execution_count": 36,
     "metadata": {},
     "output_type": "execute_result"
    }
   ],
   "source": [
    "b_list"
   ]
  },
  {
   "cell_type": "code",
   "execution_count": 37,
   "id": "52234a35",
   "metadata": {},
   "outputs": [],
   "source": [
    "b_list.insert(1, 'func')"
   ]
  },
  {
   "cell_type": "code",
   "execution_count": 38,
   "id": "15492ed5",
   "metadata": {},
   "outputs": [
    {
     "data": {
      "text/plain": [
       "['foo', 'func', 'bar', 'baz', 'dwarf']"
      ]
     },
     "execution_count": 38,
     "metadata": {},
     "output_type": "execute_result"
    }
   ],
   "source": [
    "b_list"
   ]
  },
  {
   "cell_type": "code",
   "execution_count": 39,
   "id": "ae8fec65",
   "metadata": {},
   "outputs": [
    {
     "data": {
      "text/plain": [
       "'bar'"
      ]
     },
     "execution_count": 39,
     "metadata": {},
     "output_type": "execute_result"
    }
   ],
   "source": [
    "b_list.pop(2)"
   ]
  },
  {
   "cell_type": "code",
   "execution_count": 40,
   "id": "02bd3de1",
   "metadata": {},
   "outputs": [
    {
     "data": {
      "text/plain": [
       "['foo', 'func', 'baz', 'dwarf']"
      ]
     },
     "execution_count": 40,
     "metadata": {},
     "output_type": "execute_result"
    }
   ],
   "source": [
    "b_list"
   ]
  },
  {
   "cell_type": "code",
   "execution_count": 41,
   "id": "63be078f",
   "metadata": {},
   "outputs": [],
   "source": [
    "b = ['saw', 'small', 'he', 'foxes', 'six']"
   ]
  },
  {
   "cell_type": "code",
   "execution_count": 42,
   "id": "357a95b0",
   "metadata": {},
   "outputs": [],
   "source": [
    "b.sort(key=len)"
   ]
  },
  {
   "cell_type": "code",
   "execution_count": 43,
   "id": "6c89163e",
   "metadata": {},
   "outputs": [
    {
     "data": {
      "text/plain": [
       "['he', 'saw', 'six', 'small', 'foxes']"
      ]
     },
     "execution_count": 43,
     "metadata": {},
     "output_type": "execute_result"
    }
   ],
   "source": [
    "b"
   ]
  },
  {
   "cell_type": "code",
   "execution_count": 44,
   "id": "97c30b4f",
   "metadata": {},
   "outputs": [],
   "source": [
    "import bisect"
   ]
  },
  {
   "cell_type": "code",
   "execution_count": 45,
   "id": "e5392889",
   "metadata": {},
   "outputs": [],
   "source": [
    "c = [1, 2, 2, 2, 3, 4, 7]"
   ]
  },
  {
   "cell_type": "code",
   "execution_count": 46,
   "id": "8222ea0b",
   "metadata": {},
   "outputs": [
    {
     "data": {
      "text/plain": [
       "4"
      ]
     },
     "execution_count": 46,
     "metadata": {},
     "output_type": "execute_result"
    }
   ],
   "source": [
    "bisect.bisect(c, 2)"
   ]
  },
  {
   "cell_type": "code",
   "execution_count": 47,
   "id": "daf4cde1",
   "metadata": {},
   "outputs": [
    {
     "data": {
      "text/plain": [
       "6"
      ]
     },
     "execution_count": 47,
     "metadata": {},
     "output_type": "execute_result"
    }
   ],
   "source": [
    "bisect.bisect(c, 5)"
   ]
  },
  {
   "cell_type": "code",
   "execution_count": 48,
   "id": "98556bc7",
   "metadata": {},
   "outputs": [],
   "source": [
    "bisect.insort(c, 6)"
   ]
  },
  {
   "cell_type": "code",
   "execution_count": 49,
   "id": "1b286faf",
   "metadata": {},
   "outputs": [
    {
     "data": {
      "text/plain": [
       "[1, 2, 2, 2, 3, 4, 6, 7]"
      ]
     },
     "execution_count": 49,
     "metadata": {},
     "output_type": "execute_result"
    }
   ],
   "source": [
    "c"
   ]
  },
  {
   "cell_type": "code",
   "execution_count": 50,
   "id": "c4aa86df",
   "metadata": {},
   "outputs": [],
   "source": [
    "from sympy import *"
   ]
  },
  {
   "cell_type": "code",
   "execution_count": 55,
   "id": "084bca78",
   "metadata": {},
   "outputs": [
    {
     "name": "stdout",
     "output_type": "stream",
     "text": [
      "cos(x)\n",
      "-cos(x)\n"
     ]
    }
   ],
   "source": [
    "x = Symbol('x')\n",
    "g = sin(x)\n",
    "f = diff(g)\n",
    "h = integrate(g)\n",
    "print(f)\n",
    "print(h)"
   ]
  },
  {
   "cell_type": "code",
   "execution_count": 53,
   "id": "678b6787",
   "metadata": {},
   "outputs": [
    {
     "data": {
      "image/png": "[encoded data removed]",
      "text/plain": [
       "<Figure size 432x288 with 1 Axes>"
      ]
     },
     "metadata": {
      "needs_background": "light"
     },
     "output_type": "display_data"
    },
    {
     "data": {
      "text/plain": [
       "<sympy.plotting.plot.Plot at 0x181a46b6370>"
      ]
     },
     "execution_count": 53,
     "metadata": {},
     "output_type": "execute_result"
    }
   ],
   "source": [
    "plot(f,g)"
   ]
  },
  {
   "cell_type": "code",
   "execution_count": 56,
   "id": "5df7bf82",
   "metadata": {},
   "outputs": [],
   "source": [
    "import sympy"
   ]
  },
  {
   "cell_type": "code",
   "execution_count": 62,
   "id": "9875fd83",
   "metadata": {},
   "outputs": [],
   "source": [
    "x = sympy.Symbol('x')"
   ]
  },
  {
   "cell_type": "code",
   "execution_count": 63,
   "id": "02d613ed",
   "metadata": {},
   "outputs": [],
   "source": [
    "y = sympy.exp(x)"
   ]
  },
  {
   "cell_type": "code",
   "execution_count": 65,
   "id": "c7ed9b21",
   "metadata": {},
   "outputs": [
    {
     "data": {
      "image/png": "[encoded data removed]",
      "text/plain": [
       "<Figure size 432x288 with 1 Axes>"
      ]
     },
     "metadata": {
      "needs_background": "light"
     },
     "output_type": "display_data"
    },
    {
     "data": {
      "text/plain": [
       "<sympy.plotting.plot.Plot at 0x181a46b6760>"
      ]
     },
     "execution_count": 65,
     "metadata": {},
     "output_type": "execute_result"
    }
   ],
   "source": [
    "plot(y)"
   ]
  },
  {
   "cell_type": "code",
   "execution_count": null,
   "id": "39bddefc",
   "metadata": {},
   "outputs": [],
   "source": []
  }
 ],
 "metadata": {
  "kernelspec": {
   "display_name": "Python 3",
   "language": "python",
   "name": "python3"
  },
  "language_info": {
   "codemirror_mode": {
    "name": "ipython",
    "version": 3
   },
   "file_extension": ".py",
   "mimetype": "text/x-python",
   "name": "python",
   "nbconvert_exporter": "python",
   "pygments_lexer": "ipython3",
   "version": "3.8.8"
  }
 },
 "nbformat": 4,
 "nbformat_minor": 5
}
