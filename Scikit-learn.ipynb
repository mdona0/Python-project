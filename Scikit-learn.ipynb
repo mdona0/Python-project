{
 "cells": [
  {
   "cell_type": "code",
   "execution_count": null,
   "id": "f4080317",
   "metadata": {},
   "outputs": [],
   "source": [
    "#モデルの評価\n",
    "from sklearn.metrics import accuracy_score\n",
    " \n",
    "accuracy_score(pred, val_y)"
   ]
  },
  {
   "cell_type": "code",
   "execution_count": null,
   "id": "33cd580d",
   "metadata": {},
   "outputs": [],
   "source": [
    "#ロジスティック回帰\n",
    "from sklearn.linear_model import LogisticRegression\n",
    " \n",
    "logreg = LogisticRegression()\n",
    "logreg.fit(train_X, train_y)\n",
    "pred = logreg.predict(val_X)"
   ]
  },
  {
   "cell_type": "code",
   "execution_count": null,
   "id": "fbb026a8",
   "metadata": {},
   "outputs": [],
   "source": [
    "#SVC\n",
    "from sklearn.svm import SVC\n",
    " \n",
    "svc = SVC()\n",
    "svc.fit(train_X, train_y)\n",
    "pred = svc.predict(val_X)"
   ]
  },
  {
   "cell_type": "code",
   "execution_count": null,
   "id": "bfa3a442",
   "metadata": {},
   "outputs": [],
   "source": [
    "#LinearSVC\n",
    "from sklearn.svm import LinearSVC\n",
    " \n",
    "linear_svc = LinearSVC()\n",
    "linear_svc.fit(train_X, train_y)\n",
    "pred = linear_svc.predict(val_X)"
   ]
  },
  {
   "cell_type": "code",
   "execution_count": null,
   "id": "a5f8aca1",
   "metadata": {},
   "outputs": [],
   "source": [
    "#決定木\n",
    "from sklearn.tree import DecisionTreeClassifier\n",
    " \n",
    "decisiontree = DecisionTreeClassifier()\n",
    "decisiontree.fit(train_X, train_y)\n",
    "y_pred = decisiontree.predict(val_X)"
   ]
  },
  {
   "cell_type": "code",
   "execution_count": null,
   "id": "52fc1221",
   "metadata": {},
   "outputs": [],
   "source": [
    "#ランダムフォレスト\n",
    "from sklearn.ensemble import RandomForestClassifier\n",
    " \n",
    "randomforest = RandomForestClassifier()\n",
    "randomforest.fit(train_X, train_y)\n",
    "pred = randomforest.predict(val_X)"
   ]
  },
  {
   "cell_type": "code",
   "execution_count": null,
   "id": "ea91fc05",
   "metadata": {},
   "outputs": [],
   "source": [
    "#KNeighborsClassifier\n",
    "from sklearn.neighbors import KNeighborsClassifier\n",
    " \n",
    "knn = KNeighborsClassifier()\n",
    "knn.fit(train_X, train_y)\n",
    "pred = knn.predict(val_X)"
   ]
  },
  {
   "cell_type": "code",
   "execution_count": null,
   "id": "383b81c9",
   "metadata": {},
   "outputs": [],
   "source": [
    "#ナイーブベイズ\n",
    "from sklearn.naive_bayes import GaussianNB\n",
    " \n",
    "gaussian = GaussianNB()\n",
    "gaussian.fit(train_X, train_y)\n",
    "pred = gaussian.predict(val_X)"
   ]
  },
  {
   "cell_type": "code",
   "execution_count": null,
   "id": "530e2e5d",
   "metadata": {},
   "outputs": [],
   "source": [
    "#GradientBoostingClassifier\n",
    "from sklearn.ensemble import GradientBoostingClassifier\n",
    " \n",
    "gbk = GradientBoostingClassifier()\n",
    "gbk.fit(train_X, train_y)\n",
    "pred = gbk.predict(val_X)"
   ]
  },
  {
   "cell_type": "code",
   "execution_count": null,
   "id": "19d2dc17",
   "metadata": {},
   "outputs": [],
   "source": [
    "#Stochastic Gradient Descent\n",
    "from sklearn.linear_model import SGDClassifier\n",
    " \n",
    "sgd = SGDClassifier()\n",
    "sgd.fit(train_X, train_y)\n",
    "pred = sgd.predict(val_X)"
   ]
  }
 ],
 "metadata": {
  "kernelspec": {
   "display_name": "Python 3",
   "language": "python",
   "name": "python3"
  },
  "language_info": {
   "codemirror_mode": {
    "name": "ipython",
    "version": 3
   },
   "file_extension": ".py",
   "mimetype": "text/x-python",
   "name": "python",
   "nbconvert_exporter": "python",
   "pygments_lexer": "ipython3",
   "version": "3.8.8"
  }
 },
 "nbformat": 4,
 "nbformat_minor": 5
}
