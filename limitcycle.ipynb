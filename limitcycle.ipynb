{
 "cells": [
  {
   "cell_type": "code",
   "execution_count": 6,
   "id": "0f50ac52",
   "metadata": {},
   "outputs": [
    {
     "data": {
      "image/png": "[encoded data removed]",
      "text/plain": [
       "<Figure size 432x288 with 1 Axes>"
      ]
     },
     "metadata": {
      "needs_background": "light"
     },
     "output_type": "display_data"
    }
   ],
   "source": [
    "import numpy as np\n",
    "import matplotlib.pyplot as plt\n",
    "from scipy.integrate import odeint, simps\n",
    "\n",
    "def duffing(var, t, B, nu):#duffung-vander Pol方程式\n",
    "    mu = 0.2\n",
    "    gamma = 1\n",
    "    C1 = 1.0\n",
    "    \n",
    "    x_dot = var[1]\n",
    "    p_dot = mu*(1-gamma*var[0]**2)*var[1]-C1*var[0]-var[0]**3+B*np.cos(nu*t)\n",
    "    \n",
    "    return np.array([x_dot, p_dot])\n",
    "\n",
    "def cfsev(var, B, nu):#実行部分\n",
    "    t = np.arange(0,5000, 2*np.pi/nu)\n",
    "    var = odeint(duffing, var, t, args=(B,nu))\n",
    "    return var.T[0][100:], var.T[1][100:]\n",
    "\n",
    "def plot_point(var,B,nu):#表示関数\n",
    "    x,p=cfsev(var,B,nu)\n",
    "    plt.plot(x, p, \".\", markersize=4)\n",
    "    plt.show()\n",
    "    \n",
    "plot_point([1,1], 1,4)"
   ]
  },
  {
   "cell_type": "code",
   "execution_count": null,
   "id": "8a17f50e",
   "metadata": {},
   "outputs": [],
   "source": []
  }
 ],
 "metadata": {
  "kernelspec": {
   "display_name": "Python 3 (ipykernel)",
   "language": "python",
   "name": "python3"
  },
  "language_info": {
   "codemirror_mode": {
    "name": "ipython",
    "version": 3
   },
   "file_extension": ".py",
   "mimetype": "text/x-python",
   "name": "python",
   "nbconvert_exporter": "python",
   "pygments_lexer": "ipython3",
   "version": "3.8.13"
  }
 },
 "nbformat": 4,
 "nbformat_minor": 5
}
