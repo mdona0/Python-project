{
 "cells": [
  {
   "cell_type": "code",
   "execution_count": 2,
   "id": "066fed0c",
   "metadata": {},
   "outputs": [],
   "source": [
    "import numpy as np\n",
    "import matplotlib\n",
    "matplotlib.use('Agg')\n",
    "import matplotlib.pyplot as plt\n",
    "import scipy.integrate as integrate"
   ]
  },
  {
   "cell_type": "code",
   "execution_count": 6,
   "id": "80f8a14a",
   "metadata": {},
   "outputs": [
    {
     "name": "stderr",
     "output_type": "stream",
     "text": [
      "C:\\Users\\adacotech\\AppData\\Local\\Temp\\ipykernel_18056\\658226153.py:43: UserWarning: Matplotlib is currently using agg, which is a non-GUI backend, so cannot show the figure.\n",
      "  plt.show()\n"
     ]
    }
   ],
   "source": [
    "def dx(x, y):\n",
    "    return x + np.exp(-y)\n",
    "\n",
    "def dy(y):\n",
    "    return -y\n",
    "\n",
    "def vector(state, t):\n",
    "    x, y = state\n",
    "    nextx = dx(x,y)\n",
    "    nexty = dy(y)\n",
    "    return nextx, nexty\n",
    "\n",
    "#初期値\n",
    "x0 = -1.0\n",
    "y0 = 0.0\n",
    "\n",
    "t = np.arange(0.0, 2.0, 0.01)#arange:時間に対応する数列の形成\n",
    "v = integrate.odeint(vector, [x0, y0], t)\n",
    "\n",
    "x_vec = v[:,0]\n",
    "y_vec = v[:,1]\n",
    "\n",
    "plt.figure()\n",
    "plt.plot(x_vec, y_vec)\n",
    "plt.xlabel('x'),plt.ylabel('y')\n",
    "plt.title('nullcline')\n",
    "\n",
    "#作図範囲指定\n",
    "p = 2.0\n",
    "xmax, xmin = x_vec.max() + p, x_vec.min() - p\n",
    "ymax, ymin = y_vec.max() + p, y_vec.min() - p\n",
    "\n",
    "X, Y = np.meshgrid(np.arange(xmin, ymax, 0.1), np.arange(xmin, ymax, 0.1))\n",
    "dX = dx(X, Y)\n",
    "dY = dy(Y)\n",
    "plt.quiver(X, Y, dX, dY)\n",
    "\n",
    "plt.contour(X, Y, dY, levels=[0], colors='red')\n",
    "plt.contour(X, Y, dY, levels=[0], colors='blue')\n",
    "plt.xlim([xmin, xmax])\n",
    "plt.ylim([ymin, ymax])\n",
    "plt.grid()\n",
    "plt.show()"
   ]
  },
  {
   "cell_type": "code",
   "execution_count": null,
   "id": "0f3733f8",
   "metadata": {},
   "outputs": [],
   "source": []
  }
 ],
 "metadata": {
  "kernelspec": {
   "display_name": "Python 3 (ipykernel)",
   "language": "python",
   "name": "python3"
  },
  "language_info": {
   "codemirror_mode": {
    "name": "ipython",
    "version": 3
   },
   "file_extension": ".py",
   "mimetype": "text/x-python",
   "name": "python",
   "nbconvert_exporter": "python",
   "pygments_lexer": "ipython3",
   "version": "3.8.13"
  }
 },
 "nbformat": 4,
 "nbformat_minor": 5
}
