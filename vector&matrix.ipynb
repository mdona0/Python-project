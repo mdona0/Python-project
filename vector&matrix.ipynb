{
 "cells": [
  {
   "cell_type": "code",
   "execution_count": 1,
   "id": "e73babdf",
   "metadata": {},
   "outputs": [],
   "source": [
    "import numpy as np"
   ]
  },
  {
   "cell_type": "code",
   "execution_count": 2,
   "id": "51ef57f0",
   "metadata": {},
   "outputs": [
    {
     "name": "stdout",
     "output_type": "stream",
     "text": [
      "1\n",
      "2\n",
      "3\n",
      "4\n",
      "5\n",
      "6\n",
      "7\n",
      "8\n",
      "9\n",
      "10\n"
     ]
    }
   ],
   "source": [
    "#SUM Σ\n",
    "ans = 0\n",
    "for i in range(1, 11):\n",
    "    ans += 1\n",
    "    print(ans)"
   ]
  },
  {
   "cell_type": "code",
   "execution_count": 3,
   "id": "5d176259",
   "metadata": {},
   "outputs": [
    {
     "name": "stdout",
     "output_type": "stream",
     "text": [
      "1\n",
      "2\n",
      "3\n",
      "4\n",
      "5\n",
      "6\n",
      "7\n",
      "8\n",
      "9\n",
      "10\n"
     ]
    }
   ],
   "source": [
    "N = 10\n",
    "a = [i for i in range(1, N+1)]\n",
    "\n",
    "ans = 0\n",
    "for i in a:\n",
    "    ans += 1\n",
    "    print(ans)"
   ]
  },
  {
   "cell_type": "code",
   "execution_count": 4,
   "id": "e60a8a67",
   "metadata": {},
   "outputs": [
    {
     "name": "stdout",
     "output_type": "stream",
     "text": [
      "3\n",
      "10\n"
     ]
    }
   ],
   "source": [
    "#munti dimenstion SUM \n",
    "a = [[1, 2], [3, 4]]\n",
    "ans = 0\n",
    "for i in range(2):\n",
    "    for j in range(2):\n",
    "        ans += a[i][j]\n",
    "    print(ans)"
   ]
  },
  {
   "cell_type": "code",
   "execution_count": 5,
   "id": "47de5de3",
   "metadata": {},
   "outputs": [
    {
     "name": "stdout",
     "output_type": "stream",
     "text": [
      "1\n",
      "2\n",
      "6\n"
     ]
    }
   ],
   "source": [
    "#all multiple PAI Π\n",
    "a = [1, 2, 3]\n",
    "ans = 1 #≠0\n",
    "for i in a:\n",
    "    ans *= i\n",
    "    print(ans)"
   ]
  },
  {
   "cell_type": "code",
   "execution_count": 6,
   "id": "c4a58a80",
   "metadata": {},
   "outputs": [
    {
     "name": "stdout",
     "output_type": "stream",
     "text": [
      "2\n",
      "24\n"
     ]
    }
   ],
   "source": [
    "#munti dimenstion PAI\n",
    "a = [[1, 2], [3, 4]]\n",
    "ans = 1\n",
    "for i in range(2):\n",
    "    for j in range(2):\n",
    "        ans *= a[i][j]\n",
    "    print(ans)"
   ]
  },
  {
   "cell_type": "code",
   "execution_count": 7,
   "id": "71d77c38",
   "metadata": {},
   "outputs": [
    {
     "name": "stdout",
     "output_type": "stream",
     "text": [
      "[   65   120 10500]\n",
      "[ -15  -60 9500]\n"
     ]
    }
   ],
   "source": [
    "#vector\n",
    "a = np.array([25, 30, 10000])\n",
    "b = np.array([40,90, 500])\n",
    "\n",
    "ans1 = a + b\n",
    "print(ans1)\n",
    "ans2 = a - b\n",
    "print(ans2)"
   ]
  },
  {
   "cell_type": "code",
   "execution_count": 8,
   "id": "ee88832e",
   "metadata": {},
   "outputs": [
    {
     "name": "stdout",
     "output_type": "stream",
     "text": [
      "[   50    60 20000]\n",
      "[  32.5   60.  5250. ]\n"
     ]
    }
   ],
   "source": [
    "#vector * scalor\n",
    "c = 2\n",
    "print(c * a)\n",
    "\n",
    "ans3 = (1/c)*(ans1)\n",
    "print(ans3)"
   ]
  },
  {
   "cell_type": "code",
   "execution_count": 9,
   "id": "c61ac299",
   "metadata": {},
   "outputs": [
    {
     "name": "stdout",
     "output_type": "stream",
     "text": [
      "[1000]\n",
      "[1000, 2700]\n",
      "[1000, 2700, 5000000]\n"
     ]
    }
   ],
   "source": [
    "#adamarl product\n",
    "ans4 = []\n",
    "for i,j in zip(a, b):\n",
    "    ans4.append(i*j)\n",
    "    print(ans4)"
   ]
  },
  {
   "cell_type": "code",
   "execution_count": 10,
   "id": "21e96343",
   "metadata": {},
   "outputs": [
    {
     "data": {
      "text/plain": [
       "5003700"
      ]
     },
     "execution_count": 10,
     "metadata": {},
     "output_type": "execute_result"
    }
   ],
   "source": [
    "#dot product\n",
    "np.dot(a, b)"
   ]
  },
  {
   "cell_type": "code",
   "execution_count": 11,
   "id": "b388eda6",
   "metadata": {},
   "outputs": [
    {
     "data": {
      "text/plain": [
       "array([[   1000,    2250,   12500],\n",
       "       [   1200,    2700,   15000],\n",
       "       [ 400000,  900000, 5000000]])"
      ]
     },
     "execution_count": 11,
     "metadata": {},
     "output_type": "execute_result"
    }
   ],
   "source": [
    "#closs product\n",
    "np.outer(a, b)"
   ]
  },
  {
   "cell_type": "code",
   "execution_count": 12,
   "id": "d14c79e8",
   "metadata": {},
   "outputs": [
    {
     "data": {
      "text/plain": [
       "10000.076249709298"
      ]
     },
     "execution_count": 12,
     "metadata": {},
     "output_type": "execute_result"
    }
   ],
   "source": [
    "#bector's norm\n",
    "np.linalg.norm(a, ord=2)"
   ]
  },
  {
   "cell_type": "code",
   "execution_count": 13,
   "id": "7ca68dd7",
   "metadata": {},
   "outputs": [
    {
     "name": "stdout",
     "output_type": "stream",
     "text": [
      "[[0 2 0]\n",
      " [0 0 0]\n",
      " [0 0 0]]\n"
     ]
    }
   ],
   "source": [
    "a = np.array([2, 0, 0])\n",
    "b = np.array([0, 1, 0])\n",
    "c = np.array([0, 0, 1])\n",
    "axb = np.outer(a, b)\n",
    "ans = np.dot(c, axb)\n",
    "print(axb)"
   ]
  },
  {
   "cell_type": "code",
   "execution_count": 14,
   "id": "74f753a1",
   "metadata": {},
   "outputs": [
    {
     "name": "stdout",
     "output_type": "stream",
     "text": [
      "[[1 2 4]\n",
      " [2 3 4]\n",
      " [3 6 5]]\n"
     ]
    }
   ],
   "source": [
    "#matrix\n",
    "A = np.array([[1, 2, 4], [2, 3, 4], [3, 6, 5]])\n",
    "print(A)"
   ]
  },
  {
   "cell_type": "code",
   "execution_count": 15,
   "id": "74ebed40",
   "metadata": {},
   "outputs": [
    {
     "data": {
      "text/plain": [
       "array([[1, 2, 3],\n",
       "       [2, 3, 6],\n",
       "       [4, 4, 5]])"
      ]
     },
     "execution_count": 15,
     "metadata": {},
     "output_type": "execute_result"
    }
   ],
   "source": [
    "A.T # transposed matrix"
   ]
  },
  {
   "cell_type": "code",
   "execution_count": 16,
   "id": "6b59c4a1",
   "metadata": {},
   "outputs": [],
   "source": [
    "E = np.array([[1, 0, 0], [0, 1, 0], [0, 0, 1]])"
   ]
  },
  {
   "cell_type": "code",
   "execution_count": 17,
   "id": "e0328b02",
   "metadata": {},
   "outputs": [],
   "source": [
    "B = np.array([[1, 5, 2], [5, 2, 7], [2, 6, 1]])"
   ]
  },
  {
   "cell_type": "code",
   "execution_count": 18,
   "id": "a5051344",
   "metadata": {},
   "outputs": [
    {
     "data": {
      "text/plain": [
       "array([[ 2,  7,  6],\n",
       "       [ 7,  5, 11],\n",
       "       [ 5, 12,  6]])"
      ]
     },
     "execution_count": 18,
     "metadata": {},
     "output_type": "execute_result"
    }
   ],
   "source": [
    "#matrix add multi\n",
    "A + B"
   ]
  },
  {
   "cell_type": "code",
   "execution_count": 19,
   "id": "909aeb35",
   "metadata": {},
   "outputs": [
    {
     "data": {
      "text/plain": [
       "array([[ 1, 10,  8],\n",
       "       [10,  6, 28],\n",
       "       [ 6, 36,  5]])"
      ]
     },
     "execution_count": 19,
     "metadata": {},
     "output_type": "execute_result"
    }
   ],
   "source": [
    "A * B"
   ]
  },
  {
   "cell_type": "code",
   "execution_count": 20,
   "id": "33f22dfe",
   "metadata": {},
   "outputs": [
    {
     "data": {
      "text/plain": [
       "array([[1, 0, 0],\n",
       "       [0, 3, 0],\n",
       "       [0, 0, 5]])"
      ]
     },
     "execution_count": 20,
     "metadata": {},
     "output_type": "execute_result"
    }
   ],
   "source": [
    "A * E"
   ]
  },
  {
   "cell_type": "code",
   "execution_count": 21,
   "id": "073ca0fb",
   "metadata": {},
   "outputs": [
    {
     "data": {
      "text/plain": [
       "array([[2, 2, 4],\n",
       "       [2, 4, 4],\n",
       "       [3, 6, 6]])"
      ]
     },
     "execution_count": 21,
     "metadata": {},
     "output_type": "execute_result"
    }
   ],
   "source": [
    "A + E"
   ]
  },
  {
   "cell_type": "code",
   "execution_count": 22,
   "id": "6796bcda",
   "metadata": {},
   "outputs": [],
   "source": [
    "a = np.array([[1], \n",
    "              [3], \n",
    "              [2]])"
   ]
  },
  {
   "cell_type": "code",
   "execution_count": 23,
   "id": "da0ac224",
   "metadata": {},
   "outputs": [
    {
     "data": {
      "text/plain": [
       "array([[ 1,  2,  4],\n",
       "       [ 6,  9, 12],\n",
       "       [ 6, 12, 10]])"
      ]
     },
     "execution_count": 23,
     "metadata": {},
     "output_type": "execute_result"
    }
   ],
   "source": [
    "A * a"
   ]
  },
  {
   "cell_type": "code",
   "execution_count": 24,
   "id": "0b043167",
   "metadata": {},
   "outputs": [
    {
     "data": {
      "text/plain": [
       "array([[ 1,  5,  2,  2, 10,  4,  4, 20,  8],\n",
       "       [ 5,  2,  7, 10,  4, 14, 20,  8, 28],\n",
       "       [ 2,  6,  1,  4, 12,  2,  8, 24,  4],\n",
       "       [ 2, 10,  4,  3, 15,  6,  4, 20,  8],\n",
       "       [10,  4, 14, 15,  6, 21, 20,  8, 28],\n",
       "       [ 4, 12,  2,  6, 18,  3,  8, 24,  4],\n",
       "       [ 3, 15,  6,  6, 30, 12,  5, 25, 10],\n",
       "       [15,  6, 21, 30, 12, 42, 25, 10, 35],\n",
       "       [ 6, 18,  3, 12, 36,  6, 10, 30,  5]])"
      ]
     },
     "execution_count": 24,
     "metadata": {},
     "output_type": "execute_result"
    }
   ],
   "source": [
    "#kronecker product\n",
    "np.kron(A, B)"
   ]
  },
  {
   "cell_type": "code",
   "execution_count": 25,
   "id": "49cb8c7e",
   "metadata": {},
   "outputs": [
    {
     "data": {
      "text/plain": [
       "6.999999999999999"
      ]
     },
     "execution_count": 25,
     "metadata": {},
     "output_type": "execute_result"
    }
   ],
   "source": [
    "#determinant\n",
    "np.linalg.det(A)"
   ]
  },
  {
   "cell_type": "code",
   "execution_count": 26,
   "id": "49434c1d",
   "metadata": {},
   "outputs": [
    {
     "data": {
      "text/plain": [
       "56.99999999999996"
      ]
     },
     "execution_count": 26,
     "metadata": {},
     "output_type": "execute_result"
    }
   ],
   "source": [
    "np.linalg.det(B)"
   ]
  },
  {
   "cell_type": "code",
   "execution_count": 27,
   "id": "7ca582a9",
   "metadata": {},
   "outputs": [
    {
     "data": {
      "text/plain": [
       "1.0"
      ]
     },
     "execution_count": 27,
     "metadata": {},
     "output_type": "execute_result"
    }
   ],
   "source": [
    "np.linalg.det(E)"
   ]
  },
  {
   "cell_type": "code",
   "execution_count": 28,
   "id": "694e583e",
   "metadata": {},
   "outputs": [
    {
     "name": "stdout",
     "output_type": "stream",
     "text": [
      "(1, 2, 3) (1, 0)\n",
      "(1, 3, 2) (-1, 1)\n",
      "(2, 1, 3) (-1, 1)\n",
      "(2, 3, 1) (1, 2)\n",
      "(3, 1, 2) (1, 2)\n",
      "(3, 2, 1) (-1, 3)\n"
     ]
    }
   ],
   "source": [
    "#sign sgn(σ)\n",
    "import itertools\n",
    "\n",
    "def S(n):\n",
    "    a = [i for i in range(1, n+1)]\n",
    "    S = list(itertools.permutations(a))\n",
    "    return S\n",
    "\n",
    "def sgn(li):\n",
    "    cnt = 0\n",
    "    for i in range(len(li)): #bubble sort\n",
    "        for j in range(len(li)-1-i):\n",
    "            if li[j] > li[j+1]:\n",
    "                li[j], li[j+1] = li[j+1], li[j]\n",
    "                cnt += 1\n",
    "    ans = 1 if cnt%2==0 else -1 #jadgment odd or even\n",
    "    return ans,cnt\n",
    "\n",
    "S = S(3) #3D symmetric group\n",
    "for s in S:\n",
    "    print(s,sgn(list(s)))"
   ]
  },
  {
   "cell_type": "code",
   "execution_count": 29,
   "id": "08176a02",
   "metadata": {},
   "outputs": [
    {
     "name": "stdout",
     "output_type": "stream",
     "text": [
      "[[-1.28571429e+00  2.00000000e+00 -5.71428571e-01]\n",
      " [ 2.85714286e-01 -1.00000000e+00  5.71428571e-01]\n",
      " [ 4.28571429e-01  4.75809868e-17 -1.42857143e-01]]\n",
      "[[ 1.00000000e+00  1.90323947e-16  0.00000000e+00]\n",
      " [ 0.00000000e+00  1.00000000e+00 -1.11022302e-16]\n",
      " [-5.55111512e-17  2.37904934e-16  1.00000000e+00]]\n",
      "[[ 1.00000000e+00  1.11022302e-15  9.99200722e-16]\n",
      " [-1.11022302e-16  1.00000000e+00 -1.11022302e-16]\n",
      " [ 2.77555756e-17 -5.55111512e-17  1.00000000e+00]]\n"
     ]
    }
   ],
   "source": [
    "#inverse matrix\n",
    "Ai = np.linalg.inv(A)\n",
    "print(Ai)\n",
    "print(np.dot(A,Ai)) #A*Ai=E\n",
    "print(np.dot(Ai,A)) #Ai*A=E"
   ]
  },
  {
   "cell_type": "code",
   "execution_count": 30,
   "id": "0c09684f",
   "metadata": {},
   "outputs": [
    {
     "name": "stdout",
     "output_type": "stream",
     "text": [
      "9\n",
      "4\n",
      "3\n"
     ]
    }
   ],
   "source": [
    "#trace matrix\n",
    "print(np.trace(A))\n",
    "print(np.trace(B))\n",
    "print(np.trace(E))"
   ]
  }
 ],
 "metadata": {
  "kernelspec": {
   "display_name": "Python 3",
   "language": "python",
   "name": "python3"
  },
  "language_info": {
   "codemirror_mode": {
    "name": "ipython",
    "version": 3
   },
   "file_extension": ".py",
   "mimetype": "text/x-python",
   "name": "python",
   "nbconvert_exporter": "python",
   "pygments_lexer": "ipython3",
   "version": "3.8.8"
  }
 },
 "nbformat": 4,
 "nbformat_minor": 5
}
